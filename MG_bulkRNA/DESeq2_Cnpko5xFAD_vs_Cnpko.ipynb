{
 "cells": [
  {
   "cell_type": "code",
   "execution_count": 1,
   "metadata": {},
   "outputs": [],
   "source": [
    "#2020, Ting Sun\n",
    "#for Depp and Sun et al manuscript\n",
    "#microglia bulk RNA sequencing\n",
    "#raw fastq files aligned to reference genome using STAR default parameters\n",
    "#gene counts extracted by featureCounts\n",
    "\n",
    "#sequenced genotypes (6-month-old)\n",
    "#WT, CnpKO, 5xFAD, CnpKO x 5xFAD\n",
    "\n",
    "#apply differential expression analysis to every pair of genotypes (using CnpKOx5xFAD vs CnpKO as example )\n",
    "#by DESeq2 package\n",
    "#summarize statistic result\n"
   ]
  },
  {
   "cell_type": "code",
   "execution_count": 1,
   "metadata": {
    "scrolled": true
   },
   "outputs": [
    {
     "name": "stderr",
     "output_type": "stream",
     "text": [
      "\n",
      "Attaching package: ‘dplyr’\n",
      "\n",
      "The following objects are masked from ‘package:stats’:\n",
      "\n",
      "    filter, lag\n",
      "\n",
      "The following objects are masked from ‘package:base’:\n",
      "\n",
      "    intersect, setdiff, setequal, union\n",
      "\n",
      "Loading required package: S4Vectors\n",
      "Loading required package: stats4\n",
      "Loading required package: BiocGenerics\n",
      "Loading required package: parallel\n",
      "\n",
      "Attaching package: ‘BiocGenerics’\n",
      "\n",
      "The following objects are masked from ‘package:parallel’:\n",
      "\n",
      "    clusterApply, clusterApplyLB, clusterCall, clusterEvalQ,\n",
      "    clusterExport, clusterMap, parApply, parCapply, parLapply,\n",
      "    parLapplyLB, parRapply, parSapply, parSapplyLB\n",
      "\n",
      "The following objects are masked from ‘package:dplyr’:\n",
      "\n",
      "    combine, intersect, setdiff, union\n",
      "\n",
      "The following objects are masked from ‘package:stats’:\n",
      "\n",
      "    IQR, mad, sd, var, xtabs\n",
      "\n",
      "The following objects are masked from ‘package:base’:\n",
      "\n",
      "    anyDuplicated, append, as.data.frame, basename, cbind, colnames,\n",
      "    dirname, do.call, duplicated, eval, evalq, Filter, Find, get, grep,\n",
      "    grepl, intersect, is.unsorted, lapply, Map, mapply, match, mget,\n",
      "    order, paste, pmax, pmax.int, pmin, pmin.int, Position, rank,\n",
      "    rbind, Reduce, rownames, sapply, setdiff, sort, table, tapply,\n",
      "    union, unique, unsplit, which, which.max, which.min\n",
      "\n",
      "\n",
      "Attaching package: ‘S4Vectors’\n",
      "\n",
      "The following objects are masked from ‘package:dplyr’:\n",
      "\n",
      "    first, rename\n",
      "\n",
      "The following object is masked from ‘package:base’:\n",
      "\n",
      "    expand.grid\n",
      "\n",
      "Loading required package: IRanges\n",
      "\n",
      "Attaching package: ‘IRanges’\n",
      "\n",
      "The following objects are masked from ‘package:dplyr’:\n",
      "\n",
      "    collapse, desc, slice\n",
      "\n",
      "Loading required package: GenomicRanges\n",
      "Loading required package: GenomeInfoDb\n",
      "Loading required package: SummarizedExperiment\n",
      "Loading required package: Biobase\n",
      "Welcome to Bioconductor\n",
      "\n",
      "    Vignettes contain introductory material; view with\n",
      "    'browseVignettes()'. To cite Bioconductor, see\n",
      "    'citation(\"Biobase\")', and for packages 'citation(\"pkgname\")'.\n",
      "\n",
      "Loading required package: DelayedArray\n",
      "Loading required package: matrixStats\n",
      "\n",
      "Attaching package: ‘matrixStats’\n",
      "\n",
      "The following objects are masked from ‘package:Biobase’:\n",
      "\n",
      "    anyMissing, rowMedians\n",
      "\n",
      "The following object is masked from ‘package:dplyr’:\n",
      "\n",
      "    count\n",
      "\n",
      "Loading required package: BiocParallel\n",
      "\n",
      "Attaching package: ‘DelayedArray’\n",
      "\n",
      "The following objects are masked from ‘package:matrixStats’:\n",
      "\n",
      "    colMaxs, colMins, colRanges, rowMaxs, rowMins, rowRanges\n",
      "\n",
      "The following objects are masked from ‘package:base’:\n",
      "\n",
      "    aperm, apply, rowsum\n",
      "\n"
     ]
    }
   ],
   "source": [
    "library(dplyr)\n",
    "library(DESeq2)\n",
    "library(ggplot2)"
   ]
  },
  {
   "cell_type": "code",
   "execution_count": 2,
   "metadata": {},
   "outputs": [
    {
     "data": {
      "text/plain": [
       "R version 3.6.1 (2019-07-05)\n",
       "Platform: x86_64-conda_cos6-linux-gnu (64-bit)\n",
       "Running under: Ubuntu 20.04.2 LTS\n",
       "\n",
       "Matrix products: default\n",
       "BLAS/LAPACK: /home/tsun/anaconda3/envs/bulk/lib/R/lib/libRblas.so\n",
       "\n",
       "locale:\n",
       " [1] LC_CTYPE=en_US.UTF-8       LC_NUMERIC=C              \n",
       " [3] LC_TIME=en_US.UTF-8        LC_COLLATE=en_US.UTF-8    \n",
       " [5] LC_MONETARY=en_US.UTF-8    LC_MESSAGES=en_US.UTF-8   \n",
       " [7] LC_PAPER=en_US.UTF-8       LC_NAME=C                 \n",
       " [9] LC_ADDRESS=C               LC_TELEPHONE=C            \n",
       "[11] LC_MEASUREMENT=en_US.UTF-8 LC_IDENTIFICATION=C       \n",
       "\n",
       "attached base packages:\n",
       "[1] parallel  stats4    stats     graphics  grDevices utils     datasets \n",
       "[8] methods   base     \n",
       "\n",
       "other attached packages:\n",
       " [1] ggplot2_3.3.2               DESeq2_1.26.0              \n",
       " [3] SummarizedExperiment_1.16.1 DelayedArray_0.12.3        \n",
       " [5] BiocParallel_1.20.1         matrixStats_0.56.0         \n",
       " [7] Biobase_2.46.0              GenomicRanges_1.38.0       \n",
       " [9] GenomeInfoDb_1.22.1         IRanges_2.20.2             \n",
       "[11] S4Vectors_0.24.4            BiocGenerics_0.32.0        \n",
       "[13] dplyr_1.0.2                \n",
       "\n",
       "loaded via a namespace (and not attached):\n",
       " [1] bit64_4.0.2            jsonlite_1.7.0         splines_3.6.1         \n",
       " [4] Formula_1.2-3          latticeExtra_0.6-29    blob_1.2.1            \n",
       " [7] GenomeInfoDbData_1.2.2 RSQLite_2.2.0          pillar_1.4.6          \n",
       "[10] backports_1.1.8        lattice_0.20-41        glue_1.4.1            \n",
       "[13] uuid_0.1-4             digest_0.6.25          RColorBrewer_1.1-2    \n",
       "[16] XVector_0.26.0         checkmate_2.0.0        colorspace_1.4-1      \n",
       "[19] htmltools_0.5.0        Matrix_1.2-18          XML_3.98-1.19         \n",
       "[22] pkgconfig_2.0.3        genefilter_1.68.0      zlibbioc_1.32.0       \n",
       "[25] purrr_0.3.4            xtable_1.8-4           scales_1.1.1          \n",
       "[28] jpeg_0.1-8.1           htmlTable_2.0.1        tibble_3.0.3          \n",
       "[31] annotate_1.64.0        generics_0.0.2         ellipsis_0.3.1        \n",
       "[34] withr_2.2.0            repr_1.1.0             nnet_7.3-14           \n",
       "[37] survival_3.2-3         magrittr_1.5           crayon_1.3.4          \n",
       "[40] memoise_1.1.0          evaluate_0.14          foreign_0.8-71        \n",
       "[43] tools_3.6.1            data.table_1.13.0      lifecycle_0.2.0       \n",
       "[46] stringr_1.4.0          locfit_1.5-9.4         munsell_0.5.0         \n",
       "[49] cluster_2.1.0          AnnotationDbi_1.48.0   compiler_3.6.1        \n",
       "[52] rlang_0.4.7            grid_3.6.1             RCurl_1.98-1.2        \n",
       "[55] pbdZMQ_0.3-3           IRkernel_0.8.15        rstudioapi_0.11       \n",
       "[58] htmlwidgets_1.5.1      bitops_1.0-6           base64enc_0.1-3       \n",
       "[61] gtable_0.3.0           DBI_1.1.0              R6_2.4.1              \n",
       "[64] gridExtra_2.3          knitr_1.29             bit_4.0.4             \n",
       "[67] Hmisc_4.4-1            stringi_1.4.6          IRdisplay_0.7.0       \n",
       "[70] Rcpp_1.0.5             geneplotter_1.64.0     vctrs_0.3.2           \n",
       "[73] rpart_4.1-15           png_0.1-7              tidyselect_1.1.0      \n",
       "[76] xfun_0.16             "
      ]
     },
     "metadata": {},
     "output_type": "display_data"
    }
   ],
   "source": [
    "sessionInfo()"
   ]
  },
  {
   "cell_type": "code",
   "execution_count": 3,
   "metadata": {},
   "outputs": [],
   "source": [
    "#read in raw counts matrix, sample meta.data list and gene annotation list\n",
    "meta.data<-read.csv(\"./bulk_metadata.csv\")\n",
    "annot<-read.csv(\"./mouse_gene_ID_annotation.csv\",\n",
    "               stringsAsFactors = FALSE)\n",
    "raw<-read.csv(\"./2020_AD_microglia_raw_counts.csv\")"
   ]
  },
  {
   "cell_type": "code",
   "execution_count": 4,
   "metadata": {},
   "outputs": [
    {
     "data": {
      "text/html": [
       "<table>\n",
       "<caption>A data.frame: 16 × 5</caption>\n",
       "<thead>\n",
       "\t<tr><th scope=col>X</th><th scope=col>file_name</th><th scope=col>seq_number</th><th scope=col>genotype</th><th scope=col>sample</th></tr>\n",
       "\t<tr><th scope=col>&lt;int&gt;</th><th scope=col>&lt;fct&gt;</th><th scope=col>&lt;int&gt;</th><th scope=col>&lt;fct&gt;</th><th scope=col>&lt;fct&gt;</th></tr>\n",
       "</thead>\n",
       "<tbody>\n",
       "\t<tr><td> 1</td><td>p833s1_Nave_S42_L005_R1_001.fastq.gz.tabular </td><td> 1</td><td>WT       </td><td>WT_1        </td></tr>\n",
       "\t<tr><td> 9</td><td>p833s2_Nave_S43_L005_R1_001.fastq.gz.tabular </td><td> 2</td><td>WT       </td><td>WT_2        </td></tr>\n",
       "\t<tr><td>10</td><td>p833s3_Nave_S44_L005_R1_001.fastq.gz.tabular </td><td> 3</td><td>WT       </td><td>WT_3        </td></tr>\n",
       "\t<tr><td>11</td><td>p833s4_Nave_S45_L005_R1_001.fastq.gz.tabular </td><td> 4</td><td>WT       </td><td>WT_4        </td></tr>\n",
       "\t<tr><td>12</td><td>p833s5_Nave_S46_L005_R1_001.fastq.gz.tabular </td><td> 5</td><td>Cnp_ko   </td><td>Cnp_ko_5    </td></tr>\n",
       "\t<tr><td>13</td><td>p833s6_Nave_S47_L005_R1_001.fastq.gz.tabular </td><td> 6</td><td>Cnp_ko   </td><td>Cnp_ko_6    </td></tr>\n",
       "\t<tr><td>14</td><td>p833s7_Nave_S48_L005_R1_001.fastq.gz.tabular </td><td> 7</td><td>Cnp_ko   </td><td>Cnp_ko_7    </td></tr>\n",
       "\t<tr><td>15</td><td>p833s8_Nave_S49_L005_R1_001.fastq.gz.tabular </td><td> 8</td><td>Cnp_ko   </td><td>Cnp_ko_8    </td></tr>\n",
       "\t<tr><td>16</td><td>p833s9_Nave_S50_L005_R1_001.fastq.gz.tabular </td><td> 9</td><td>5xFAD    </td><td>5xFAD_9     </td></tr>\n",
       "\t<tr><td> 2</td><td>p833s10_Nave_S51_L005_R1_001.fastq.gz.tabular</td><td>10</td><td>5xFAD    </td><td>5xFAD_10    </td></tr>\n",
       "\t<tr><td> 3</td><td>p833s11_Nave_S52_L006_R1_001.fastq.gz.tabular</td><td>11</td><td>5xFAD    </td><td>5xFAD_11    </td></tr>\n",
       "\t<tr><td> 4</td><td>p833s12_Nave_S53_L006_R1_001.fastq.gz.tabular</td><td>12</td><td>5xFAD    </td><td>5xFAD_12    </td></tr>\n",
       "\t<tr><td> 5</td><td>p833s13_Nave_S54_L006_R1_001.fastq.gz.tabular</td><td>13</td><td>Cnp_5xFAD</td><td>Cnp_5xFAD_13</td></tr>\n",
       "\t<tr><td> 6</td><td>p833s14_Nave_S55_L006_R1_001.fastq.gz.tabular</td><td>14</td><td>Cnp_5xFAD</td><td>Cnp_5xFAD_14</td></tr>\n",
       "\t<tr><td> 7</td><td>p833s15_Nave_S56_L006_R1_001.fastq.gz.tabular</td><td>15</td><td>Cnp_5xFAD</td><td>Cnp_5xFAD_15</td></tr>\n",
       "\t<tr><td> 8</td><td>p833s16_Nave_S57_L006_R1_001.fastq.gz.tabular</td><td>16</td><td>Cnp_5xFAD</td><td>Cnp_5xFAD_16</td></tr>\n",
       "</tbody>\n",
       "</table>\n"
      ],
      "text/latex": [
       "A data.frame: 16 × 5\n",
       "\\begin{tabular}{lllll}\n",
       " X & file\\_name & seq\\_number & genotype & sample\\\\\n",
       " <int> & <fct> & <int> & <fct> & <fct>\\\\\n",
       "\\hline\n",
       "\t  1 & p833s1\\_Nave\\_S42\\_L005\\_R1\\_001.fastq.gz.tabular  &  1 & WT        & WT\\_1        \\\\\n",
       "\t  9 & p833s2\\_Nave\\_S43\\_L005\\_R1\\_001.fastq.gz.tabular  &  2 & WT        & WT\\_2        \\\\\n",
       "\t 10 & p833s3\\_Nave\\_S44\\_L005\\_R1\\_001.fastq.gz.tabular  &  3 & WT        & WT\\_3        \\\\\n",
       "\t 11 & p833s4\\_Nave\\_S45\\_L005\\_R1\\_001.fastq.gz.tabular  &  4 & WT        & WT\\_4        \\\\\n",
       "\t 12 & p833s5\\_Nave\\_S46\\_L005\\_R1\\_001.fastq.gz.tabular  &  5 & Cnp\\_ko    & Cnp\\_ko\\_5    \\\\\n",
       "\t 13 & p833s6\\_Nave\\_S47\\_L005\\_R1\\_001.fastq.gz.tabular  &  6 & Cnp\\_ko    & Cnp\\_ko\\_6    \\\\\n",
       "\t 14 & p833s7\\_Nave\\_S48\\_L005\\_R1\\_001.fastq.gz.tabular  &  7 & Cnp\\_ko    & Cnp\\_ko\\_7    \\\\\n",
       "\t 15 & p833s8\\_Nave\\_S49\\_L005\\_R1\\_001.fastq.gz.tabular  &  8 & Cnp\\_ko    & Cnp\\_ko\\_8    \\\\\n",
       "\t 16 & p833s9\\_Nave\\_S50\\_L005\\_R1\\_001.fastq.gz.tabular  &  9 & 5xFAD     & 5xFAD\\_9     \\\\\n",
       "\t  2 & p833s10\\_Nave\\_S51\\_L005\\_R1\\_001.fastq.gz.tabular & 10 & 5xFAD     & 5xFAD\\_10    \\\\\n",
       "\t  3 & p833s11\\_Nave\\_S52\\_L006\\_R1\\_001.fastq.gz.tabular & 11 & 5xFAD     & 5xFAD\\_11    \\\\\n",
       "\t  4 & p833s12\\_Nave\\_S53\\_L006\\_R1\\_001.fastq.gz.tabular & 12 & 5xFAD     & 5xFAD\\_12    \\\\\n",
       "\t  5 & p833s13\\_Nave\\_S54\\_L006\\_R1\\_001.fastq.gz.tabular & 13 & Cnp\\_5xFAD & Cnp\\_5xFAD\\_13\\\\\n",
       "\t  6 & p833s14\\_Nave\\_S55\\_L006\\_R1\\_001.fastq.gz.tabular & 14 & Cnp\\_5xFAD & Cnp\\_5xFAD\\_14\\\\\n",
       "\t  7 & p833s15\\_Nave\\_S56\\_L006\\_R1\\_001.fastq.gz.tabular & 15 & Cnp\\_5xFAD & Cnp\\_5xFAD\\_15\\\\\n",
       "\t  8 & p833s16\\_Nave\\_S57\\_L006\\_R1\\_001.fastq.gz.tabular & 16 & Cnp\\_5xFAD & Cnp\\_5xFAD\\_16\\\\\n",
       "\\end{tabular}\n"
      ],
      "text/markdown": [
       "\n",
       "A data.frame: 16 × 5\n",
       "\n",
       "| X &lt;int&gt; | file_name &lt;fct&gt; | seq_number &lt;int&gt; | genotype &lt;fct&gt; | sample &lt;fct&gt; |\n",
       "|---|---|---|---|---|\n",
       "|  1 | p833s1_Nave_S42_L005_R1_001.fastq.gz.tabular  |  1 | WT        | WT_1         |\n",
       "|  9 | p833s2_Nave_S43_L005_R1_001.fastq.gz.tabular  |  2 | WT        | WT_2         |\n",
       "| 10 | p833s3_Nave_S44_L005_R1_001.fastq.gz.tabular  |  3 | WT        | WT_3         |\n",
       "| 11 | p833s4_Nave_S45_L005_R1_001.fastq.gz.tabular  |  4 | WT        | WT_4         |\n",
       "| 12 | p833s5_Nave_S46_L005_R1_001.fastq.gz.tabular  |  5 | Cnp_ko    | Cnp_ko_5     |\n",
       "| 13 | p833s6_Nave_S47_L005_R1_001.fastq.gz.tabular  |  6 | Cnp_ko    | Cnp_ko_6     |\n",
       "| 14 | p833s7_Nave_S48_L005_R1_001.fastq.gz.tabular  |  7 | Cnp_ko    | Cnp_ko_7     |\n",
       "| 15 | p833s8_Nave_S49_L005_R1_001.fastq.gz.tabular  |  8 | Cnp_ko    | Cnp_ko_8     |\n",
       "| 16 | p833s9_Nave_S50_L005_R1_001.fastq.gz.tabular  |  9 | 5xFAD     | 5xFAD_9      |\n",
       "|  2 | p833s10_Nave_S51_L005_R1_001.fastq.gz.tabular | 10 | 5xFAD     | 5xFAD_10     |\n",
       "|  3 | p833s11_Nave_S52_L006_R1_001.fastq.gz.tabular | 11 | 5xFAD     | 5xFAD_11     |\n",
       "|  4 | p833s12_Nave_S53_L006_R1_001.fastq.gz.tabular | 12 | 5xFAD     | 5xFAD_12     |\n",
       "|  5 | p833s13_Nave_S54_L006_R1_001.fastq.gz.tabular | 13 | Cnp_5xFAD | Cnp_5xFAD_13 |\n",
       "|  6 | p833s14_Nave_S55_L006_R1_001.fastq.gz.tabular | 14 | Cnp_5xFAD | Cnp_5xFAD_14 |\n",
       "|  7 | p833s15_Nave_S56_L006_R1_001.fastq.gz.tabular | 15 | Cnp_5xFAD | Cnp_5xFAD_15 |\n",
       "|  8 | p833s16_Nave_S57_L006_R1_001.fastq.gz.tabular | 16 | Cnp_5xFAD | Cnp_5xFAD_16 |\n",
       "\n"
      ],
      "text/plain": [
       "   X  file_name                                     seq_number genotype \n",
       "1   1 p833s1_Nave_S42_L005_R1_001.fastq.gz.tabular   1         WT       \n",
       "2   9 p833s2_Nave_S43_L005_R1_001.fastq.gz.tabular   2         WT       \n",
       "3  10 p833s3_Nave_S44_L005_R1_001.fastq.gz.tabular   3         WT       \n",
       "4  11 p833s4_Nave_S45_L005_R1_001.fastq.gz.tabular   4         WT       \n",
       "5  12 p833s5_Nave_S46_L005_R1_001.fastq.gz.tabular   5         Cnp_ko   \n",
       "6  13 p833s6_Nave_S47_L005_R1_001.fastq.gz.tabular   6         Cnp_ko   \n",
       "7  14 p833s7_Nave_S48_L005_R1_001.fastq.gz.tabular   7         Cnp_ko   \n",
       "8  15 p833s8_Nave_S49_L005_R1_001.fastq.gz.tabular   8         Cnp_ko   \n",
       "9  16 p833s9_Nave_S50_L005_R1_001.fastq.gz.tabular   9         5xFAD    \n",
       "10  2 p833s10_Nave_S51_L005_R1_001.fastq.gz.tabular 10         5xFAD    \n",
       "11  3 p833s11_Nave_S52_L006_R1_001.fastq.gz.tabular 11         5xFAD    \n",
       "12  4 p833s12_Nave_S53_L006_R1_001.fastq.gz.tabular 12         5xFAD    \n",
       "13  5 p833s13_Nave_S54_L006_R1_001.fastq.gz.tabular 13         Cnp_5xFAD\n",
       "14  6 p833s14_Nave_S55_L006_R1_001.fastq.gz.tabular 14         Cnp_5xFAD\n",
       "15  7 p833s15_Nave_S56_L006_R1_001.fastq.gz.tabular 15         Cnp_5xFAD\n",
       "16  8 p833s16_Nave_S57_L006_R1_001.fastq.gz.tabular 16         Cnp_5xFAD\n",
       "   sample      \n",
       "1  WT_1        \n",
       "2  WT_2        \n",
       "3  WT_3        \n",
       "4  WT_4        \n",
       "5  Cnp_ko_5    \n",
       "6  Cnp_ko_6    \n",
       "7  Cnp_ko_7    \n",
       "8  Cnp_ko_8    \n",
       "9  5xFAD_9     \n",
       "10 5xFAD_10    \n",
       "11 5xFAD_11    \n",
       "12 5xFAD_12    \n",
       "13 Cnp_5xFAD_13\n",
       "14 Cnp_5xFAD_14\n",
       "15 Cnp_5xFAD_15\n",
       "16 Cnp_5xFAD_16"
      ]
     },
     "metadata": {},
     "output_type": "display_data"
    },
    {
     "data": {
      "text/html": [
       "<table>\n",
       "<caption>A data.frame: 6 × 8</caption>\n",
       "<thead>\n",
       "\t<tr><th></th><th scope=col>X</th><th scope=col>ensembl_gene_id</th><th scope=col>mgi_symbol</th><th scope=col>chromosome_name</th><th scope=col>strand</th><th scope=col>start_position</th><th scope=col>end_position</th><th scope=col>gene_biotype</th></tr>\n",
       "\t<tr><th></th><th scope=col>&lt;int&gt;</th><th scope=col>&lt;chr&gt;</th><th scope=col>&lt;chr&gt;</th><th scope=col>&lt;chr&gt;</th><th scope=col>&lt;int&gt;</th><th scope=col>&lt;int&gt;</th><th scope=col>&lt;int&gt;</th><th scope=col>&lt;chr&gt;</th></tr>\n",
       "</thead>\n",
       "<tbody>\n",
       "\t<tr><th scope=row>1</th><td>1</td><td>ENSMUSG00000064336</td><td>mt-Tf  </td><td>MT</td><td>1</td><td>   1</td><td>  68</td><td>Mt_tRNA       </td></tr>\n",
       "\t<tr><th scope=row>2</th><td>2</td><td>ENSMUSG00000064337</td><td>mt-Rnr1</td><td>MT</td><td>1</td><td>  70</td><td>1024</td><td>Mt_rRNA       </td></tr>\n",
       "\t<tr><th scope=row>3</th><td>3</td><td>ENSMUSG00000064338</td><td>mt-Tv  </td><td>MT</td><td>1</td><td>1025</td><td>1093</td><td>Mt_tRNA       </td></tr>\n",
       "\t<tr><th scope=row>4</th><td>4</td><td>ENSMUSG00000064339</td><td>mt-Rnr2</td><td>MT</td><td>1</td><td>1094</td><td>2675</td><td>Mt_rRNA       </td></tr>\n",
       "\t<tr><th scope=row>5</th><td>5</td><td>ENSMUSG00000064340</td><td>mt-Tl1 </td><td>MT</td><td>1</td><td>2676</td><td>2750</td><td>Mt_tRNA       </td></tr>\n",
       "\t<tr><th scope=row>6</th><td>6</td><td>ENSMUSG00000064341</td><td>mt-Nd1 </td><td>MT</td><td>1</td><td>2751</td><td>3707</td><td>protein_coding</td></tr>\n",
       "</tbody>\n",
       "</table>\n"
      ],
      "text/latex": [
       "A data.frame: 6 × 8\n",
       "\\begin{tabular}{r|llllllll}\n",
       "  & X & ensembl\\_gene\\_id & mgi\\_symbol & chromosome\\_name & strand & start\\_position & end\\_position & gene\\_biotype\\\\\n",
       "  & <int> & <chr> & <chr> & <chr> & <int> & <int> & <int> & <chr>\\\\\n",
       "\\hline\n",
       "\t1 & 1 & ENSMUSG00000064336 & mt-Tf   & MT & 1 &    1 &   68 & Mt\\_tRNA       \\\\\n",
       "\t2 & 2 & ENSMUSG00000064337 & mt-Rnr1 & MT & 1 &   70 & 1024 & Mt\\_rRNA       \\\\\n",
       "\t3 & 3 & ENSMUSG00000064338 & mt-Tv   & MT & 1 & 1025 & 1093 & Mt\\_tRNA       \\\\\n",
       "\t4 & 4 & ENSMUSG00000064339 & mt-Rnr2 & MT & 1 & 1094 & 2675 & Mt\\_rRNA       \\\\\n",
       "\t5 & 5 & ENSMUSG00000064340 & mt-Tl1  & MT & 1 & 2676 & 2750 & Mt\\_tRNA       \\\\\n",
       "\t6 & 6 & ENSMUSG00000064341 & mt-Nd1  & MT & 1 & 2751 & 3707 & protein\\_coding\\\\\n",
       "\\end{tabular}\n"
      ],
      "text/markdown": [
       "\n",
       "A data.frame: 6 × 8\n",
       "\n",
       "| <!--/--> | X &lt;int&gt; | ensembl_gene_id &lt;chr&gt; | mgi_symbol &lt;chr&gt; | chromosome_name &lt;chr&gt; | strand &lt;int&gt; | start_position &lt;int&gt; | end_position &lt;int&gt; | gene_biotype &lt;chr&gt; |\n",
       "|---|---|---|---|---|---|---|---|---|\n",
       "| 1 | 1 | ENSMUSG00000064336 | mt-Tf   | MT | 1 |    1 |   68 | Mt_tRNA        |\n",
       "| 2 | 2 | ENSMUSG00000064337 | mt-Rnr1 | MT | 1 |   70 | 1024 | Mt_rRNA        |\n",
       "| 3 | 3 | ENSMUSG00000064338 | mt-Tv   | MT | 1 | 1025 | 1093 | Mt_tRNA        |\n",
       "| 4 | 4 | ENSMUSG00000064339 | mt-Rnr2 | MT | 1 | 1094 | 2675 | Mt_rRNA        |\n",
       "| 5 | 5 | ENSMUSG00000064340 | mt-Tl1  | MT | 1 | 2676 | 2750 | Mt_tRNA        |\n",
       "| 6 | 6 | ENSMUSG00000064341 | mt-Nd1  | MT | 1 | 2751 | 3707 | protein_coding |\n",
       "\n"
      ],
      "text/plain": [
       "  X ensembl_gene_id    mgi_symbol chromosome_name strand start_position\n",
       "1 1 ENSMUSG00000064336 mt-Tf      MT              1         1          \n",
       "2 2 ENSMUSG00000064337 mt-Rnr1    MT              1        70          \n",
       "3 3 ENSMUSG00000064338 mt-Tv      MT              1      1025          \n",
       "4 4 ENSMUSG00000064339 mt-Rnr2    MT              1      1094          \n",
       "5 5 ENSMUSG00000064340 mt-Tl1     MT              1      2676          \n",
       "6 6 ENSMUSG00000064341 mt-Nd1     MT              1      2751          \n",
       "  end_position gene_biotype  \n",
       "1   68         Mt_tRNA       \n",
       "2 1024         Mt_rRNA       \n",
       "3 1093         Mt_tRNA       \n",
       "4 2675         Mt_rRNA       \n",
       "5 2750         Mt_tRNA       \n",
       "6 3707         protein_coding"
      ]
     },
     "metadata": {},
     "output_type": "display_data"
    },
    {
     "data": {
      "text/html": [
       "<table>\n",
       "<caption>A data.frame: 6 × 18</caption>\n",
       "<thead>\n",
       "\t<tr><th></th><th scope=col>X</th><th scope=col>gene_symbol</th><th scope=col>WT_1</th><th scope=col>WT_2</th><th scope=col>WT_3</th><th scope=col>WT_4</th><th scope=col>Cnp_ko_5</th><th scope=col>Cnp_ko_6</th><th scope=col>Cnp_ko_7</th><th scope=col>Cnp_ko_8</th><th scope=col>X5xFAD_9</th><th scope=col>X5xFAD_10</th><th scope=col>X5xFAD_11</th><th scope=col>X5xFAD_12</th><th scope=col>Cnp_5xFAD_13</th><th scope=col>Cnp_5xFAD_14</th><th scope=col>Cnp_5xFAD_15</th><th scope=col>Cnp_5xFAD_16</th></tr>\n",
       "\t<tr><th></th><th scope=col>&lt;fct&gt;</th><th scope=col>&lt;fct&gt;</th><th scope=col>&lt;int&gt;</th><th scope=col>&lt;int&gt;</th><th scope=col>&lt;int&gt;</th><th scope=col>&lt;int&gt;</th><th scope=col>&lt;int&gt;</th><th scope=col>&lt;int&gt;</th><th scope=col>&lt;int&gt;</th><th scope=col>&lt;int&gt;</th><th scope=col>&lt;int&gt;</th><th scope=col>&lt;int&gt;</th><th scope=col>&lt;int&gt;</th><th scope=col>&lt;int&gt;</th><th scope=col>&lt;int&gt;</th><th scope=col>&lt;int&gt;</th><th scope=col>&lt;int&gt;</th><th scope=col>&lt;int&gt;</th></tr>\n",
       "</thead>\n",
       "<tbody>\n",
       "\t<tr><th scope=row>1</th><td>ENSMUSG00000000001</td><td>Gnai3</td><td>3535</td><td>3024</td><td>1589</td><td>2524</td><td>3886</td><td>1189</td><td>2897</td><td>1402</td><td>3142</td><td>3163</td><td>540</td><td>1241</td><td>1459</td><td>1162</td><td>1033</td><td>1067</td></tr>\n",
       "\t<tr><th scope=row>2</th><td>ENSMUSG00000000003</td><td>Pbsn </td><td>   0</td><td>   0</td><td>   0</td><td>   0</td><td>   0</td><td>   0</td><td>   0</td><td>   0</td><td>   0</td><td>   0</td><td>  0</td><td>   0</td><td>   0</td><td>   0</td><td>   0</td><td>   0</td></tr>\n",
       "\t<tr><th scope=row>3</th><td>ENSMUSG00000000028</td><td>Cdc45</td><td>  98</td><td>  60</td><td>  55</td><td>  59</td><td>  87</td><td>  14</td><td>  72</td><td>  34</td><td> 128</td><td> 134</td><td> 13</td><td>  45</td><td>  44</td><td>  38</td><td>  41</td><td>  28</td></tr>\n",
       "\t<tr><th scope=row>4</th><td>ENSMUSG00000000031</td><td>H19  </td><td>   1</td><td>   9</td><td>   0</td><td>   0</td><td>   0</td><td>   0</td><td>   1</td><td>   4</td><td>   0</td><td>   0</td><td>  0</td><td>   1</td><td>   0</td><td>   0</td><td>   0</td><td>   0</td></tr>\n",
       "\t<tr><th scope=row>5</th><td>ENSMUSG00000000037</td><td>Scml2</td><td>  36</td><td>   8</td><td>   0</td><td>  11</td><td>   7</td><td>   1</td><td>   0</td><td>  15</td><td>   3</td><td>  10</td><td>  9</td><td>   1</td><td>   4</td><td>   2</td><td>   0</td><td>   4</td></tr>\n",
       "\t<tr><th scope=row>6</th><td>ENSMUSG00000000049</td><td>Apoh </td><td>   2</td><td>   4</td><td>   5</td><td>   1</td><td>   0</td><td>   0</td><td>   0</td><td>   0</td><td>   0</td><td>   0</td><td>  0</td><td>   0</td><td>   0</td><td>   0</td><td>   1</td><td>   0</td></tr>\n",
       "</tbody>\n",
       "</table>\n"
      ],
      "text/latex": [
       "A data.frame: 6 × 18\n",
       "\\begin{tabular}{r|llllllllllllllllll}\n",
       "  & X & gene\\_symbol & WT\\_1 & WT\\_2 & WT\\_3 & WT\\_4 & Cnp\\_ko\\_5 & Cnp\\_ko\\_6 & Cnp\\_ko\\_7 & Cnp\\_ko\\_8 & X5xFAD\\_9 & X5xFAD\\_10 & X5xFAD\\_11 & X5xFAD\\_12 & Cnp\\_5xFAD\\_13 & Cnp\\_5xFAD\\_14 & Cnp\\_5xFAD\\_15 & Cnp\\_5xFAD\\_16\\\\\n",
       "  & <fct> & <fct> & <int> & <int> & <int> & <int> & <int> & <int> & <int> & <int> & <int> & <int> & <int> & <int> & <int> & <int> & <int> & <int>\\\\\n",
       "\\hline\n",
       "\t1 & ENSMUSG00000000001 & Gnai3 & 3535 & 3024 & 1589 & 2524 & 3886 & 1189 & 2897 & 1402 & 3142 & 3163 & 540 & 1241 & 1459 & 1162 & 1033 & 1067\\\\\n",
       "\t2 & ENSMUSG00000000003 & Pbsn  &    0 &    0 &    0 &    0 &    0 &    0 &    0 &    0 &    0 &    0 &   0 &    0 &    0 &    0 &    0 &    0\\\\\n",
       "\t3 & ENSMUSG00000000028 & Cdc45 &   98 &   60 &   55 &   59 &   87 &   14 &   72 &   34 &  128 &  134 &  13 &   45 &   44 &   38 &   41 &   28\\\\\n",
       "\t4 & ENSMUSG00000000031 & H19   &    1 &    9 &    0 &    0 &    0 &    0 &    1 &    4 &    0 &    0 &   0 &    1 &    0 &    0 &    0 &    0\\\\\n",
       "\t5 & ENSMUSG00000000037 & Scml2 &   36 &    8 &    0 &   11 &    7 &    1 &    0 &   15 &    3 &   10 &   9 &    1 &    4 &    2 &    0 &    4\\\\\n",
       "\t6 & ENSMUSG00000000049 & Apoh  &    2 &    4 &    5 &    1 &    0 &    0 &    0 &    0 &    0 &    0 &   0 &    0 &    0 &    0 &    1 &    0\\\\\n",
       "\\end{tabular}\n"
      ],
      "text/markdown": [
       "\n",
       "A data.frame: 6 × 18\n",
       "\n",
       "| <!--/--> | X &lt;fct&gt; | gene_symbol &lt;fct&gt; | WT_1 &lt;int&gt; | WT_2 &lt;int&gt; | WT_3 &lt;int&gt; | WT_4 &lt;int&gt; | Cnp_ko_5 &lt;int&gt; | Cnp_ko_6 &lt;int&gt; | Cnp_ko_7 &lt;int&gt; | Cnp_ko_8 &lt;int&gt; | X5xFAD_9 &lt;int&gt; | X5xFAD_10 &lt;int&gt; | X5xFAD_11 &lt;int&gt; | X5xFAD_12 &lt;int&gt; | Cnp_5xFAD_13 &lt;int&gt; | Cnp_5xFAD_14 &lt;int&gt; | Cnp_5xFAD_15 &lt;int&gt; | Cnp_5xFAD_16 &lt;int&gt; |\n",
       "|---|---|---|---|---|---|---|---|---|---|---|---|---|---|---|---|---|---|---|\n",
       "| 1 | ENSMUSG00000000001 | Gnai3 | 3535 | 3024 | 1589 | 2524 | 3886 | 1189 | 2897 | 1402 | 3142 | 3163 | 540 | 1241 | 1459 | 1162 | 1033 | 1067 |\n",
       "| 2 | ENSMUSG00000000003 | Pbsn  |    0 |    0 |    0 |    0 |    0 |    0 |    0 |    0 |    0 |    0 |   0 |    0 |    0 |    0 |    0 |    0 |\n",
       "| 3 | ENSMUSG00000000028 | Cdc45 |   98 |   60 |   55 |   59 |   87 |   14 |   72 |   34 |  128 |  134 |  13 |   45 |   44 |   38 |   41 |   28 |\n",
       "| 4 | ENSMUSG00000000031 | H19   |    1 |    9 |    0 |    0 |    0 |    0 |    1 |    4 |    0 |    0 |   0 |    1 |    0 |    0 |    0 |    0 |\n",
       "| 5 | ENSMUSG00000000037 | Scml2 |   36 |    8 |    0 |   11 |    7 |    1 |    0 |   15 |    3 |   10 |   9 |    1 |    4 |    2 |    0 |    4 |\n",
       "| 6 | ENSMUSG00000000049 | Apoh  |    2 |    4 |    5 |    1 |    0 |    0 |    0 |    0 |    0 |    0 |   0 |    0 |    0 |    0 |    1 |    0 |\n",
       "\n"
      ],
      "text/plain": [
       "  X                  gene_symbol WT_1 WT_2 WT_3 WT_4 Cnp_ko_5 Cnp_ko_6 Cnp_ko_7\n",
       "1 ENSMUSG00000000001 Gnai3       3535 3024 1589 2524 3886     1189     2897    \n",
       "2 ENSMUSG00000000003 Pbsn           0    0    0    0    0        0        0    \n",
       "3 ENSMUSG00000000028 Cdc45         98   60   55   59   87       14       72    \n",
       "4 ENSMUSG00000000031 H19            1    9    0    0    0        0        1    \n",
       "5 ENSMUSG00000000037 Scml2         36    8    0   11    7        1        0    \n",
       "6 ENSMUSG00000000049 Apoh           2    4    5    1    0        0        0    \n",
       "  Cnp_ko_8 X5xFAD_9 X5xFAD_10 X5xFAD_11 X5xFAD_12 Cnp_5xFAD_13 Cnp_5xFAD_14\n",
       "1 1402     3142     3163      540       1241      1459         1162        \n",
       "2    0        0        0        0          0         0            0        \n",
       "3   34      128      134       13         45        44           38        \n",
       "4    4        0        0        0          1         0            0        \n",
       "5   15        3       10        9          1         4            2        \n",
       "6    0        0        0        0          0         0            0        \n",
       "  Cnp_5xFAD_15 Cnp_5xFAD_16\n",
       "1 1033         1067        \n",
       "2    0            0        \n",
       "3   41           28        \n",
       "4    0            0        \n",
       "5    0            4        \n",
       "6    1            0        "
      ]
     },
     "metadata": {},
     "output_type": "display_data"
    },
    {
     "data": {
      "text/html": [
       "<style>\n",
       ".list-inline {list-style: none; margin:0; padding: 0}\n",
       ".list-inline>li {display: inline-block}\n",
       ".list-inline>li:not(:last-child)::after {content: \"\\00b7\"; padding: 0 .5ex}\n",
       "</style>\n",
       "<ol class=list-inline><li>'X'</li><li>'gene_symbol'</li><li>'WT_1'</li><li>'WT_2'</li><li>'WT_3'</li><li>'WT_4'</li><li>'Cnp_ko_5'</li><li>'Cnp_ko_6'</li><li>'Cnp_ko_7'</li><li>'Cnp_ko_8'</li><li>'X5xFAD_9'</li><li>'X5xFAD_10'</li><li>'X5xFAD_11'</li><li>'X5xFAD_12'</li><li>'Cnp_5xFAD_13'</li><li>'Cnp_5xFAD_14'</li><li>'Cnp_5xFAD_15'</li><li>'Cnp_5xFAD_16'</li></ol>\n"
      ],
      "text/latex": [
       "\\begin{enumerate*}\n",
       "\\item 'X'\n",
       "\\item 'gene\\_symbol'\n",
       "\\item 'WT\\_1'\n",
       "\\item 'WT\\_2'\n",
       "\\item 'WT\\_3'\n",
       "\\item 'WT\\_4'\n",
       "\\item 'Cnp\\_ko\\_5'\n",
       "\\item 'Cnp\\_ko\\_6'\n",
       "\\item 'Cnp\\_ko\\_7'\n",
       "\\item 'Cnp\\_ko\\_8'\n",
       "\\item 'X5xFAD\\_9'\n",
       "\\item 'X5xFAD\\_10'\n",
       "\\item 'X5xFAD\\_11'\n",
       "\\item 'X5xFAD\\_12'\n",
       "\\item 'Cnp\\_5xFAD\\_13'\n",
       "\\item 'Cnp\\_5xFAD\\_14'\n",
       "\\item 'Cnp\\_5xFAD\\_15'\n",
       "\\item 'Cnp\\_5xFAD\\_16'\n",
       "\\end{enumerate*}\n"
      ],
      "text/markdown": [
       "1. 'X'\n",
       "2. 'gene_symbol'\n",
       "3. 'WT_1'\n",
       "4. 'WT_2'\n",
       "5. 'WT_3'\n",
       "6. 'WT_4'\n",
       "7. 'Cnp_ko_5'\n",
       "8. 'Cnp_ko_6'\n",
       "9. 'Cnp_ko_7'\n",
       "10. 'Cnp_ko_8'\n",
       "11. 'X5xFAD_9'\n",
       "12. 'X5xFAD_10'\n",
       "13. 'X5xFAD_11'\n",
       "14. 'X5xFAD_12'\n",
       "15. 'Cnp_5xFAD_13'\n",
       "16. 'Cnp_5xFAD_14'\n",
       "17. 'Cnp_5xFAD_15'\n",
       "18. 'Cnp_5xFAD_16'\n",
       "\n",
       "\n"
      ],
      "text/plain": [
       " [1] \"X\"            \"gene_symbol\"  \"WT_1\"         \"WT_2\"         \"WT_3\"        \n",
       " [6] \"WT_4\"         \"Cnp_ko_5\"     \"Cnp_ko_6\"     \"Cnp_ko_7\"     \"Cnp_ko_8\"    \n",
       "[11] \"X5xFAD_9\"     \"X5xFAD_10\"    \"X5xFAD_11\"    \"X5xFAD_12\"    \"Cnp_5xFAD_13\"\n",
       "[16] \"Cnp_5xFAD_14\" \"Cnp_5xFAD_15\" \"Cnp_5xFAD_16\""
      ]
     },
     "metadata": {},
     "output_type": "display_data"
    }
   ],
   "source": [
    "meta.data\n",
    "head(annot)\n",
    "head(raw)\n",
    "colnames(raw)"
   ]
  },
  {
   "cell_type": "code",
   "execution_count": 4,
   "metadata": {},
   "outputs": [],
   "source": [
    "rownames(raw)<-raw$X\n",
    "rownames(meta.data)<-meta.data$sample"
   ]
  },
  {
   "cell_type": "code",
   "execution_count": 5,
   "metadata": {},
   "outputs": [
    {
     "data": {
      "text/html": [
       "<ol class=list-inline>\n",
       "\t<li>''</li>\n",
       "\t<li>'gene_symbol'</li>\n",
       "\t<li>'WT_1'</li>\n",
       "\t<li>'WT_2'</li>\n",
       "\t<li>'WT_3'</li>\n",
       "\t<li>'WT_4'</li>\n",
       "\t<li>'Cnp_ko_5'</li>\n",
       "\t<li>'Cnp_ko_6'</li>\n",
       "\t<li>'Cnp_ko_7'</li>\n",
       "\t<li>'Cnp_ko_8'</li>\n",
       "\t<li>'5xFAD_9'</li>\n",
       "\t<li>'5xFAD_10'</li>\n",
       "\t<li>'5xFAD_11'</li>\n",
       "\t<li>'5xFAD_12'</li>\n",
       "\t<li>'Cnp_5xFAD_13'</li>\n",
       "\t<li>'Cnp_5xFAD_14'</li>\n",
       "\t<li>'Cnp_5xFAD_15'</li>\n",
       "\t<li>'Cnp_5xFAD_16'</li>\n",
       "</ol>\n"
      ],
      "text/latex": [
       "\\begin{enumerate*}\n",
       "\\item ''\n",
       "\\item 'gene\\_symbol'\n",
       "\\item 'WT\\_1'\n",
       "\\item 'WT\\_2'\n",
       "\\item 'WT\\_3'\n",
       "\\item 'WT\\_4'\n",
       "\\item 'Cnp\\_ko\\_5'\n",
       "\\item 'Cnp\\_ko\\_6'\n",
       "\\item 'Cnp\\_ko\\_7'\n",
       "\\item 'Cnp\\_ko\\_8'\n",
       "\\item '5xFAD\\_9'\n",
       "\\item '5xFAD\\_10'\n",
       "\\item '5xFAD\\_11'\n",
       "\\item '5xFAD\\_12'\n",
       "\\item 'Cnp\\_5xFAD\\_13'\n",
       "\\item 'Cnp\\_5xFAD\\_14'\n",
       "\\item 'Cnp\\_5xFAD\\_15'\n",
       "\\item 'Cnp\\_5xFAD\\_16'\n",
       "\\end{enumerate*}\n"
      ],
      "text/markdown": [
       "1. ''\n",
       "2. 'gene_symbol'\n",
       "3. 'WT_1'\n",
       "4. 'WT_2'\n",
       "5. 'WT_3'\n",
       "6. 'WT_4'\n",
       "7. 'Cnp_ko_5'\n",
       "8. 'Cnp_ko_6'\n",
       "9. 'Cnp_ko_7'\n",
       "10. 'Cnp_ko_8'\n",
       "11. '5xFAD_9'\n",
       "12. '5xFAD_10'\n",
       "13. '5xFAD_11'\n",
       "14. '5xFAD_12'\n",
       "15. 'Cnp_5xFAD_13'\n",
       "16. 'Cnp_5xFAD_14'\n",
       "17. 'Cnp_5xFAD_15'\n",
       "18. 'Cnp_5xFAD_16'\n",
       "\n",
       "\n"
      ],
      "text/plain": [
       " [1] \"\"             \"gene_symbol\"  \"WT_1\"         \"WT_2\"         \"WT_3\"        \n",
       " [6] \"WT_4\"         \"Cnp_ko_5\"     \"Cnp_ko_6\"     \"Cnp_ko_7\"     \"Cnp_ko_8\"    \n",
       "[11] \"5xFAD_9\"      \"5xFAD_10\"     \"5xFAD_11\"     \"5xFAD_12\"     \"Cnp_5xFAD_13\"\n",
       "[16] \"Cnp_5xFAD_14\" \"Cnp_5xFAD_15\" \"Cnp_5xFAD_16\""
      ]
     },
     "metadata": {},
     "output_type": "display_data"
    }
   ],
   "source": [
    "colnames(raw)<-gsub(\"X\",\"\",colnames(raw))\n",
    "colnames(raw)"
   ]
  },
  {
   "cell_type": "code",
   "execution_count": null,
   "metadata": {},
   "outputs": [],
   "source": []
  },
  {
   "cell_type": "code",
   "execution_count": 6,
   "metadata": {},
   "outputs": [],
   "source": [
    "#####################select pair genotypes for analysis\n",
    "#examplie using CnpKOx5xFAD vs CnpKO\n",
    "sampleTable <- data.frame(sample = meta.data$sample[c(5:8,13:16)],\n",
    "                         condition = meta.data$genotype[c(5:8,13:16)])\n",
    "rownames(sampleTable)<-sampleTable$sample"
   ]
  },
  {
   "cell_type": "code",
   "execution_count": 7,
   "metadata": {},
   "outputs": [
    {
     "data": {
      "text/html": [
       "<table>\n",
       "<caption>A data.frame: 8 × 2</caption>\n",
       "<thead>\n",
       "\t<tr><th></th><th scope=col>sample</th><th scope=col>condition</th></tr>\n",
       "\t<tr><th></th><th scope=col>&lt;fct&gt;</th><th scope=col>&lt;fct&gt;</th></tr>\n",
       "</thead>\n",
       "<tbody>\n",
       "\t<tr><th scope=row>Cnp_ko_5</th><td>Cnp_ko_5    </td><td>Cnp_ko   </td></tr>\n",
       "\t<tr><th scope=row>Cnp_ko_6</th><td>Cnp_ko_6    </td><td>Cnp_ko   </td></tr>\n",
       "\t<tr><th scope=row>Cnp_ko_7</th><td>Cnp_ko_7    </td><td>Cnp_ko   </td></tr>\n",
       "\t<tr><th scope=row>Cnp_ko_8</th><td>Cnp_ko_8    </td><td>Cnp_ko   </td></tr>\n",
       "\t<tr><th scope=row>Cnp_5xFAD_13</th><td>Cnp_5xFAD_13</td><td>Cnp_5xFAD</td></tr>\n",
       "\t<tr><th scope=row>Cnp_5xFAD_14</th><td>Cnp_5xFAD_14</td><td>Cnp_5xFAD</td></tr>\n",
       "\t<tr><th scope=row>Cnp_5xFAD_15</th><td>Cnp_5xFAD_15</td><td>Cnp_5xFAD</td></tr>\n",
       "\t<tr><th scope=row>Cnp_5xFAD_16</th><td>Cnp_5xFAD_16</td><td>Cnp_5xFAD</td></tr>\n",
       "</tbody>\n",
       "</table>\n"
      ],
      "text/latex": [
       "A data.frame: 8 × 2\n",
       "\\begin{tabular}{r|ll}\n",
       "  & sample & condition\\\\\n",
       "  & <fct> & <fct>\\\\\n",
       "\\hline\n",
       "\tCnp\\_ko\\_5 & Cnp\\_ko\\_5     & Cnp\\_ko   \\\\\n",
       "\tCnp\\_ko\\_6 & Cnp\\_ko\\_6     & Cnp\\_ko   \\\\\n",
       "\tCnp\\_ko\\_7 & Cnp\\_ko\\_7     & Cnp\\_ko   \\\\\n",
       "\tCnp\\_ko\\_8 & Cnp\\_ko\\_8     & Cnp\\_ko   \\\\\n",
       "\tCnp\\_5xFAD\\_13 & Cnp\\_5xFAD\\_13 & Cnp\\_5xFAD\\\\\n",
       "\tCnp\\_5xFAD\\_14 & Cnp\\_5xFAD\\_14 & Cnp\\_5xFAD\\\\\n",
       "\tCnp\\_5xFAD\\_15 & Cnp\\_5xFAD\\_15 & Cnp\\_5xFAD\\\\\n",
       "\tCnp\\_5xFAD\\_16 & Cnp\\_5xFAD\\_16 & Cnp\\_5xFAD\\\\\n",
       "\\end{tabular}\n"
      ],
      "text/markdown": [
       "\n",
       "A data.frame: 8 × 2\n",
       "\n",
       "| <!--/--> | sample &lt;fct&gt; | condition &lt;fct&gt; |\n",
       "|---|---|---|\n",
       "| Cnp_ko_5 | Cnp_ko_5     | Cnp_ko    |\n",
       "| Cnp_ko_6 | Cnp_ko_6     | Cnp_ko    |\n",
       "| Cnp_ko_7 | Cnp_ko_7     | Cnp_ko    |\n",
       "| Cnp_ko_8 | Cnp_ko_8     | Cnp_ko    |\n",
       "| Cnp_5xFAD_13 | Cnp_5xFAD_13 | Cnp_5xFAD |\n",
       "| Cnp_5xFAD_14 | Cnp_5xFAD_14 | Cnp_5xFAD |\n",
       "| Cnp_5xFAD_15 | Cnp_5xFAD_15 | Cnp_5xFAD |\n",
       "| Cnp_5xFAD_16 | Cnp_5xFAD_16 | Cnp_5xFAD |\n",
       "\n"
      ],
      "text/plain": [
       "             sample       condition\n",
       "Cnp_ko_5     Cnp_ko_5     Cnp_ko   \n",
       "Cnp_ko_6     Cnp_ko_6     Cnp_ko   \n",
       "Cnp_ko_7     Cnp_ko_7     Cnp_ko   \n",
       "Cnp_ko_8     Cnp_ko_8     Cnp_ko   \n",
       "Cnp_5xFAD_13 Cnp_5xFAD_13 Cnp_5xFAD\n",
       "Cnp_5xFAD_14 Cnp_5xFAD_14 Cnp_5xFAD\n",
       "Cnp_5xFAD_15 Cnp_5xFAD_15 Cnp_5xFAD\n",
       "Cnp_5xFAD_16 Cnp_5xFAD_16 Cnp_5xFAD"
      ]
     },
     "metadata": {},
     "output_type": "display_data"
    }
   ],
   "source": [
    "sampleTable"
   ]
  },
  {
   "cell_type": "code",
   "execution_count": 8,
   "metadata": {},
   "outputs": [
    {
     "data": {
      "text/html": [
       "<table>\n",
       "<caption>A data.frame: 6 × 8</caption>\n",
       "<thead>\n",
       "\t<tr><th></th><th scope=col>Cnp_ko_5</th><th scope=col>Cnp_ko_6</th><th scope=col>Cnp_ko_7</th><th scope=col>Cnp_ko_8</th><th scope=col>Cnp_5xFAD_13</th><th scope=col>Cnp_5xFAD_14</th><th scope=col>Cnp_5xFAD_15</th><th scope=col>Cnp_5xFAD_16</th></tr>\n",
       "\t<tr><th></th><th scope=col>&lt;int&gt;</th><th scope=col>&lt;int&gt;</th><th scope=col>&lt;int&gt;</th><th scope=col>&lt;int&gt;</th><th scope=col>&lt;int&gt;</th><th scope=col>&lt;int&gt;</th><th scope=col>&lt;int&gt;</th><th scope=col>&lt;int&gt;</th></tr>\n",
       "</thead>\n",
       "<tbody>\n",
       "\t<tr><th scope=row>ENSMUSG00000000001</th><td>3886</td><td>1189</td><td>2897</td><td>1402</td><td>1459</td><td>1162</td><td>1033</td><td>1067</td></tr>\n",
       "\t<tr><th scope=row>ENSMUSG00000000003</th><td>   0</td><td>   0</td><td>   0</td><td>   0</td><td>   0</td><td>   0</td><td>   0</td><td>   0</td></tr>\n",
       "\t<tr><th scope=row>ENSMUSG00000000028</th><td>  87</td><td>  14</td><td>  72</td><td>  34</td><td>  44</td><td>  38</td><td>  41</td><td>  28</td></tr>\n",
       "\t<tr><th scope=row>ENSMUSG00000000031</th><td>   0</td><td>   0</td><td>   1</td><td>   4</td><td>   0</td><td>   0</td><td>   0</td><td>   0</td></tr>\n",
       "\t<tr><th scope=row>ENSMUSG00000000037</th><td>   7</td><td>   1</td><td>   0</td><td>  15</td><td>   4</td><td>   2</td><td>   0</td><td>   4</td></tr>\n",
       "\t<tr><th scope=row>ENSMUSG00000000049</th><td>   0</td><td>   0</td><td>   0</td><td>   0</td><td>   0</td><td>   0</td><td>   1</td><td>   0</td></tr>\n",
       "</tbody>\n",
       "</table>\n"
      ],
      "text/latex": [
       "A data.frame: 6 × 8\n",
       "\\begin{tabular}{r|llllllll}\n",
       "  & Cnp\\_ko\\_5 & Cnp\\_ko\\_6 & Cnp\\_ko\\_7 & Cnp\\_ko\\_8 & Cnp\\_5xFAD\\_13 & Cnp\\_5xFAD\\_14 & Cnp\\_5xFAD\\_15 & Cnp\\_5xFAD\\_16\\\\\n",
       "  & <int> & <int> & <int> & <int> & <int> & <int> & <int> & <int>\\\\\n",
       "\\hline\n",
       "\tENSMUSG00000000001 & 3886 & 1189 & 2897 & 1402 & 1459 & 1162 & 1033 & 1067\\\\\n",
       "\tENSMUSG00000000003 &    0 &    0 &    0 &    0 &    0 &    0 &    0 &    0\\\\\n",
       "\tENSMUSG00000000028 &   87 &   14 &   72 &   34 &   44 &   38 &   41 &   28\\\\\n",
       "\tENSMUSG00000000031 &    0 &    0 &    1 &    4 &    0 &    0 &    0 &    0\\\\\n",
       "\tENSMUSG00000000037 &    7 &    1 &    0 &   15 &    4 &    2 &    0 &    4\\\\\n",
       "\tENSMUSG00000000049 &    0 &    0 &    0 &    0 &    0 &    0 &    1 &    0\\\\\n",
       "\\end{tabular}\n"
      ],
      "text/markdown": [
       "\n",
       "A data.frame: 6 × 8\n",
       "\n",
       "| <!--/--> | Cnp_ko_5 &lt;int&gt; | Cnp_ko_6 &lt;int&gt; | Cnp_ko_7 &lt;int&gt; | Cnp_ko_8 &lt;int&gt; | Cnp_5xFAD_13 &lt;int&gt; | Cnp_5xFAD_14 &lt;int&gt; | Cnp_5xFAD_15 &lt;int&gt; | Cnp_5xFAD_16 &lt;int&gt; |\n",
       "|---|---|---|---|---|---|---|---|---|\n",
       "| ENSMUSG00000000001 | 3886 | 1189 | 2897 | 1402 | 1459 | 1162 | 1033 | 1067 |\n",
       "| ENSMUSG00000000003 |    0 |    0 |    0 |    0 |    0 |    0 |    0 |    0 |\n",
       "| ENSMUSG00000000028 |   87 |   14 |   72 |   34 |   44 |   38 |   41 |   28 |\n",
       "| ENSMUSG00000000031 |    0 |    0 |    1 |    4 |    0 |    0 |    0 |    0 |\n",
       "| ENSMUSG00000000037 |    7 |    1 |    0 |   15 |    4 |    2 |    0 |    4 |\n",
       "| ENSMUSG00000000049 |    0 |    0 |    0 |    0 |    0 |    0 |    1 |    0 |\n",
       "\n"
      ],
      "text/plain": [
       "                   Cnp_ko_5 Cnp_ko_6 Cnp_ko_7 Cnp_ko_8 Cnp_5xFAD_13\n",
       "ENSMUSG00000000001 3886     1189     2897     1402     1459        \n",
       "ENSMUSG00000000003    0        0        0        0        0        \n",
       "ENSMUSG00000000028   87       14       72       34       44        \n",
       "ENSMUSG00000000031    0        0        1        4        0        \n",
       "ENSMUSG00000000037    7        1        0       15        4        \n",
       "ENSMUSG00000000049    0        0        0        0        0        \n",
       "                   Cnp_5xFAD_14 Cnp_5xFAD_15 Cnp_5xFAD_16\n",
       "ENSMUSG00000000001 1162         1033         1067        \n",
       "ENSMUSG00000000003    0            0            0        \n",
       "ENSMUSG00000000028   38           41           28        \n",
       "ENSMUSG00000000031    0            0            0        \n",
       "ENSMUSG00000000037    2            0            4        \n",
       "ENSMUSG00000000049    0            1            0        "
      ]
     },
     "metadata": {},
     "output_type": "display_data"
    }
   ],
   "source": [
    "colnames(raw)[1]<-\"X\"\n",
    "rownames(raw)<-raw$X\n",
    "cts<-raw[,rownames(sampleTable)]\n",
    "head(cts)"
   ]
  },
  {
   "cell_type": "code",
   "execution_count": 9,
   "metadata": {},
   "outputs": [
    {
     "name": "stderr",
     "output_type": "stream",
     "text": [
      "factor levels were dropped which had no samples\n"
     ]
    }
   ],
   "source": [
    "#apply DGE analysis using DESeq2 package\n",
    "dds<-DESeqDataSetFromMatrix(countData = cts,\n",
    "                                    colData = sampleTable,\n",
    "                                    design = ~condition)"
   ]
  },
  {
   "cell_type": "code",
   "execution_count": 10,
   "metadata": {},
   "outputs": [
    {
     "data": {
      "text/plain": [
       "class: DESeqDataSet \n",
       "dim: 55471 8 \n",
       "metadata(1): version\n",
       "assays(1): counts\n",
       "rownames(55471): ENSMUSG00000000001 ENSMUSG00000000003 ...\n",
       "  ENSMUSG00000118639 ENSMUSG00000118640\n",
       "rowData names(0):\n",
       "colnames(8): Cnp_ko_5 Cnp_ko_6 ... Cnp_5xFAD_15 Cnp_5xFAD_16\n",
       "colData names(2): sample condition"
      ]
     },
     "metadata": {},
     "output_type": "display_data"
    }
   ],
   "source": [
    "dds"
   ]
  },
  {
   "cell_type": "code",
   "execution_count": 12,
   "metadata": {},
   "outputs": [],
   "source": [
    "##############\n",
    "dds$condition<-relevel(dds$condition, ref = \"Cnp_ko\")"
   ]
  },
  {
   "cell_type": "code",
   "execution_count": 13,
   "metadata": {},
   "outputs": [
    {
     "name": "stderr",
     "output_type": "stream",
     "text": [
      "estimating size factors\n",
      "estimating dispersions\n",
      "gene-wise dispersion estimates\n",
      "mean-dispersion relationship\n",
      "final dispersion estimates\n",
      "fitting model and testing\n"
     ]
    }
   ],
   "source": [
    "dds_result<-DESeq(dds)"
   ]
  },
  {
   "cell_type": "code",
   "execution_count": 14,
   "metadata": {},
   "outputs": [],
   "source": [
    "#extract statistic result\n",
    "res<-results(dds_result)"
   ]
  },
  {
   "cell_type": "code",
   "execution_count": 15,
   "metadata": {},
   "outputs": [
    {
     "data": {
      "text/plain": [
       "log2 fold change (MLE): condition Cnp 5xFAD vs Cnp ko \n",
       "Wald test p-value: condition Cnp 5xFAD vs Cnp ko \n",
       "DataFrame with 55471 rows and 6 columns\n",
       "                            baseMean      log2FoldChange             lfcSE\n",
       "                           <numeric>           <numeric>         <numeric>\n",
       "ENSMUSG00000000001  1559.34046972118 -0.0157946066320022 0.143341505923618\n",
       "ENSMUSG00000000003                 0                  NA                NA\n",
       "ENSMUSG00000000028  41.5039282917149   0.574083870602662 0.356651256851704\n",
       "ENSMUSG00000000031  0.55939392700539   -2.18537903528362  3.39804162125527\n",
       "ENSMUSG00000000037  3.93900585635211  -0.546877269033553  1.35261680854946\n",
       "...                              ...                 ...               ...\n",
       "ENSMUSG00000118636 0.707005692596459  -0.384721962735069  2.32242220331432\n",
       "ENSMUSG00000118637                 0                  NA                NA\n",
       "ENSMUSG00000118638                 0                  NA                NA\n",
       "ENSMUSG00000118639                 0                  NA                NA\n",
       "ENSMUSG00000118640                 0                  NA                NA\n",
       "                                 stat            pvalue              padj\n",
       "                            <numeric>         <numeric>         <numeric>\n",
       "ENSMUSG00000000001 -0.110188647246518 0.912259765632265 0.963621498304743\n",
       "ENSMUSG00000000003                 NA                NA                NA\n",
       "ENSMUSG00000000028   1.60965049070714 0.107474178976521 0.318894015042958\n",
       "ENSMUSG00000000031 -0.643128978060109 0.520140412771096                NA\n",
       "ENSMUSG00000000037 -0.404310567173878 0.685984355799904 0.848702469448824\n",
       "...                               ...               ...               ...\n",
       "ENSMUSG00000118636 -0.165655479088184 0.868428084402659                NA\n",
       "ENSMUSG00000118637                 NA                NA                NA\n",
       "ENSMUSG00000118638                 NA                NA                NA\n",
       "ENSMUSG00000118639                 NA                NA                NA\n",
       "ENSMUSG00000118640                 NA                NA                NA"
      ]
     },
     "metadata": {},
     "output_type": "display_data"
    }
   ],
   "source": [
    "res"
   ]
  },
  {
   "cell_type": "code",
   "execution_count": 17,
   "metadata": {},
   "outputs": [],
   "source": [
    "exp<-res\n",
    "########################\n",
    "colnames(exp)<-paste0(\"Cnp5xFAD_vs_Cnpko_\",colnames(res))"
   ]
  },
  {
   "cell_type": "code",
   "execution_count": 18,
   "metadata": {},
   "outputs": [
    {
     "data": {
      "text/plain": [
       " \n",
       " \n",
       "DataFrame with 55471 rows and 6 columns\n",
       "                   Cnp5xFAD_vs_Cnpko_baseMean Cnp5xFAD_vs_Cnpko_log2FoldChange\n",
       "                                    <numeric>                        <numeric>\n",
       "ENSMUSG00000000001           1559.34046972118              -0.0157946066320022\n",
       "ENSMUSG00000000003                          0                               NA\n",
       "ENSMUSG00000000028           41.5039282917149                0.574083870602662\n",
       "ENSMUSG00000000031           0.55939392700539                -2.18537903528362\n",
       "ENSMUSG00000000037           3.93900585635211               -0.546877269033553\n",
       "...                                       ...                              ...\n",
       "ENSMUSG00000118636          0.707005692596459               -0.384721962735069\n",
       "ENSMUSG00000118637                          0                               NA\n",
       "ENSMUSG00000118638                          0                               NA\n",
       "ENSMUSG00000118639                          0                               NA\n",
       "ENSMUSG00000118640                          0                               NA\n",
       "                   Cnp5xFAD_vs_Cnpko_lfcSE Cnp5xFAD_vs_Cnpko_stat\n",
       "                                 <numeric>              <numeric>\n",
       "ENSMUSG00000000001       0.143341505923618     -0.110188647246518\n",
       "ENSMUSG00000000003                      NA                     NA\n",
       "ENSMUSG00000000028       0.356651256851704       1.60965049070714\n",
       "ENSMUSG00000000031        3.39804162125527     -0.643128978060109\n",
       "ENSMUSG00000000037        1.35261680854946     -0.404310567173878\n",
       "...                                    ...                    ...\n",
       "ENSMUSG00000118636        2.32242220331432     -0.165655479088184\n",
       "ENSMUSG00000118637                      NA                     NA\n",
       "ENSMUSG00000118638                      NA                     NA\n",
       "ENSMUSG00000118639                      NA                     NA\n",
       "ENSMUSG00000118640                      NA                     NA\n",
       "                   Cnp5xFAD_vs_Cnpko_pvalue Cnp5xFAD_vs_Cnpko_padj\n",
       "                                  <numeric>              <numeric>\n",
       "ENSMUSG00000000001        0.912259765632265      0.963621498304743\n",
       "ENSMUSG00000000003                       NA                     NA\n",
       "ENSMUSG00000000028        0.107474178976521      0.318894015042958\n",
       "ENSMUSG00000000031        0.520140412771096                     NA\n",
       "ENSMUSG00000000037        0.685984355799904      0.848702469448824\n",
       "...                                     ...                    ...\n",
       "ENSMUSG00000118636        0.868428084402659                     NA\n",
       "ENSMUSG00000118637                       NA                     NA\n",
       "ENSMUSG00000118638                       NA                     NA\n",
       "ENSMUSG00000118639                       NA                     NA\n",
       "ENSMUSG00000118640                       NA                     NA"
      ]
     },
     "metadata": {},
     "output_type": "display_data"
    }
   ],
   "source": [
    "exp"
   ]
  },
  {
   "cell_type": "code",
   "execution_count": 20,
   "metadata": {},
   "outputs": [],
   "source": [
    "#order result based on adjP\n",
    "res<-res[order(res$padj, decreasing = F),]"
   ]
  },
  {
   "cell_type": "code",
   "execution_count": 21,
   "metadata": {},
   "outputs": [
    {
     "data": {
      "text/plain": [
       "log2 fold change (MLE): condition Cnp 5xFAD vs Cnp ko \n",
       "Wald test p-value: condition Cnp 5xFAD vs Cnp ko \n",
       "DataFrame with 55471 rows and 6 columns\n",
       "                            baseMean     log2FoldChange             lfcSE\n",
       "                           <numeric>          <numeric>         <numeric>\n",
       "ENSMUSG00000031425   1884.9767597741  -3.93671458581075 0.246014531516049\n",
       "ENSMUSG00000037625  191.173535462697  -3.67700504305091  0.29002690112374\n",
       "ENSMUSG00000026442  349.555460652756  -2.95661615135894 0.272163966199007\n",
       "ENSMUSG00000027375  244.379951793621  -2.57641876820185  0.26417957012007\n",
       "ENSMUSG00000018126  690.024090446332   2.81009755149968 0.294471382991884\n",
       "...                              ...                ...               ...\n",
       "ENSMUSG00000118636 0.707005692596459 -0.384721962735069  2.32242220331432\n",
       "ENSMUSG00000118637                 0                 NA                NA\n",
       "ENSMUSG00000118638                 0                 NA                NA\n",
       "ENSMUSG00000118639                 0                 NA                NA\n",
       "ENSMUSG00000118640                 0                 NA                NA\n",
       "                                 stat               pvalue                 padj\n",
       "                            <numeric>            <numeric>            <numeric>\n",
       "ENSMUSG00000031425  -16.0019595653598 1.23815815301259e-57 2.53203342291075e-53\n",
       "ENSMUSG00000037625  -12.6781516776684 7.81530863230997e-37 7.99115307653694e-33\n",
       "ENSMUSG00000026442  -10.8633637018541 1.72283890899866e-27 1.17440185630076e-23\n",
       "ENSMUSG00000027375  -9.75252842992691 1.79930016777212e-22 9.19892210773498e-19\n",
       "ENSMUSG00000018126   9.54285446330492 1.38953971436719e-21 5.66844886138916e-18\n",
       "...                               ...                  ...                  ...\n",
       "ENSMUSG00000118636 -0.165655479088184    0.868428084402659                   NA\n",
       "ENSMUSG00000118637                 NA                   NA                   NA\n",
       "ENSMUSG00000118638                 NA                   NA                   NA\n",
       "ENSMUSG00000118639                 NA                   NA                   NA\n",
       "ENSMUSG00000118640                 NA                   NA                   NA"
      ]
     },
     "metadata": {},
     "output_type": "display_data"
    },
    {
     "name": "stdout",
     "output_type": "stream",
     "text": [
      "\n",
      "out of 30048 with nonzero total read count\n",
      "adjusted p-value < 0.1\n",
      "LFC > 0 (up)       : 1271, 4.2%\n",
      "LFC < 0 (down)     : 1241, 4.1%\n",
      "outliers [1]       : 136, 0.45%\n",
      "low counts [2]     : 9462, 31%\n",
      "(mean count < 1)\n",
      "[1] see 'cooksCutoff' argument of ?results\n",
      "[2] see 'independentFiltering' argument of ?results\n",
      "\n",
      "\n",
      "out of 30048 with nonzero total read count\n",
      "adjusted p-value < 0.05\n",
      "LFC > 0 (up)       : 756, 2.5%\n",
      "LFC < 0 (down)     : 841, 2.8%\n",
      "outliers [1]       : 136, 0.45%\n",
      "low counts [2]     : 9462, 31%\n",
      "(mean count < 1)\n",
      "[1] see 'cooksCutoff' argument of ?results\n",
      "[2] see 'independentFiltering' argument of ?results\n",
      "\n"
     ]
    }
   ],
   "source": [
    "#filter result for significant regulated genes, use cut-off adjP<0.05\n",
    "res\n",
    "summary(res)\n",
    "\n",
    "res_sig<-results(dds_result, alpha = 0.05)\n",
    "summary(res_sig)"
   ]
  },
  {
   "cell_type": "code",
   "execution_count": 22,
   "metadata": {},
   "outputs": [
    {
     "data": {
      "image/png": "[encoded data removed]",
      "text/plain": [
       "Plot with title “”"
      ]
     },
     "metadata": {},
     "output_type": "display_data"
    }
   ],
   "source": [
    "plotMA(res_sig, ylim = c(-10,10))"
   ]
  },
  {
   "cell_type": "code",
   "execution_count": 23,
   "metadata": {},
   "outputs": [
    {
     "data": {
      "text/plain": [
       "DataFrame with 6 rows and 2 columns\n",
       "                       type\n",
       "                <character>\n",
       "baseMean       intermediate\n",
       "log2FoldChange      results\n",
       "lfcSE               results\n",
       "stat                results\n",
       "pvalue              results\n",
       "padj                results\n",
       "                                                         description\n",
       "                                                         <character>\n",
       "baseMean                   mean of normalized counts for all samples\n",
       "log2FoldChange log2 fold change (MLE): condition Cnp 5xFAD vs Cnp ko\n",
       "lfcSE                  standard error: condition Cnp 5xFAD vs Cnp ko\n",
       "stat                   Wald statistic: condition Cnp 5xFAD vs Cnp ko\n",
       "pvalue              Wald test p-value: condition Cnp 5xFAD vs Cnp ko\n",
       "padj                                            BH adjusted p-values"
      ]
     },
     "metadata": {},
     "output_type": "display_data"
    }
   ],
   "source": [
    "mcols(res_sig)"
   ]
  },
  {
   "cell_type": "code",
   "execution_count": 24,
   "metadata": {},
   "outputs": [],
   "source": [
    "\n",
    "#########################the following script aim to summarize statistics from CnpKOx5xFAD vs CnpKO\n",
    "##########################together with gene raw counts and normalised counts\n",
    "\n",
    "raw<-as.data.frame(counts(dds_result,normalized=F))\n",
    "rld<-as.data.frame(counts(dds_result,normalized=T))"
   ]
  },
  {
   "cell_type": "code",
   "execution_count": 25,
   "metadata": {},
   "outputs": [
    {
     "data": {
      "text/html": [
       "<table>\n",
       "<caption>A data.frame: 6 × 8</caption>\n",
       "<thead>\n",
       "\t<tr><th></th><th scope=col>Cnp_ko_5</th><th scope=col>Cnp_ko_6</th><th scope=col>Cnp_ko_7</th><th scope=col>Cnp_ko_8</th><th scope=col>Cnp_5xFAD_13</th><th scope=col>Cnp_5xFAD_14</th><th scope=col>Cnp_5xFAD_15</th><th scope=col>Cnp_5xFAD_16</th></tr>\n",
       "\t<tr><th></th><th scope=col>&lt;int&gt;</th><th scope=col>&lt;int&gt;</th><th scope=col>&lt;int&gt;</th><th scope=col>&lt;int&gt;</th><th scope=col>&lt;int&gt;</th><th scope=col>&lt;int&gt;</th><th scope=col>&lt;int&gt;</th><th scope=col>&lt;int&gt;</th></tr>\n",
       "</thead>\n",
       "<tbody>\n",
       "\t<tr><th scope=row>ENSMUSG00000000001</th><td>3886</td><td>1189</td><td>2897</td><td>1402</td><td>1459</td><td>1162</td><td>1033</td><td>1067</td></tr>\n",
       "\t<tr><th scope=row>ENSMUSG00000000003</th><td>   0</td><td>   0</td><td>   0</td><td>   0</td><td>   0</td><td>   0</td><td>   0</td><td>   0</td></tr>\n",
       "\t<tr><th scope=row>ENSMUSG00000000028</th><td>  87</td><td>  14</td><td>  72</td><td>  34</td><td>  44</td><td>  38</td><td>  41</td><td>  28</td></tr>\n",
       "\t<tr><th scope=row>ENSMUSG00000000031</th><td>   0</td><td>   0</td><td>   1</td><td>   4</td><td>   0</td><td>   0</td><td>   0</td><td>   0</td></tr>\n",
       "\t<tr><th scope=row>ENSMUSG00000000037</th><td>   7</td><td>   1</td><td>   0</td><td>  15</td><td>   4</td><td>   2</td><td>   0</td><td>   4</td></tr>\n",
       "\t<tr><th scope=row>ENSMUSG00000000049</th><td>   0</td><td>   0</td><td>   0</td><td>   0</td><td>   0</td><td>   0</td><td>   1</td><td>   0</td></tr>\n",
       "</tbody>\n",
       "</table>\n"
      ],
      "text/latex": [
       "A data.frame: 6 × 8\n",
       "\\begin{tabular}{r|llllllll}\n",
       "  & Cnp\\_ko\\_5 & Cnp\\_ko\\_6 & Cnp\\_ko\\_7 & Cnp\\_ko\\_8 & Cnp\\_5xFAD\\_13 & Cnp\\_5xFAD\\_14 & Cnp\\_5xFAD\\_15 & Cnp\\_5xFAD\\_16\\\\\n",
       "  & <int> & <int> & <int> & <int> & <int> & <int> & <int> & <int>\\\\\n",
       "\\hline\n",
       "\tENSMUSG00000000001 & 3886 & 1189 & 2897 & 1402 & 1459 & 1162 & 1033 & 1067\\\\\n",
       "\tENSMUSG00000000003 &    0 &    0 &    0 &    0 &    0 &    0 &    0 &    0\\\\\n",
       "\tENSMUSG00000000028 &   87 &   14 &   72 &   34 &   44 &   38 &   41 &   28\\\\\n",
       "\tENSMUSG00000000031 &    0 &    0 &    1 &    4 &    0 &    0 &    0 &    0\\\\\n",
       "\tENSMUSG00000000037 &    7 &    1 &    0 &   15 &    4 &    2 &    0 &    4\\\\\n",
       "\tENSMUSG00000000049 &    0 &    0 &    0 &    0 &    0 &    0 &    1 &    0\\\\\n",
       "\\end{tabular}\n"
      ],
      "text/markdown": [
       "\n",
       "A data.frame: 6 × 8\n",
       "\n",
       "| <!--/--> | Cnp_ko_5 &lt;int&gt; | Cnp_ko_6 &lt;int&gt; | Cnp_ko_7 &lt;int&gt; | Cnp_ko_8 &lt;int&gt; | Cnp_5xFAD_13 &lt;int&gt; | Cnp_5xFAD_14 &lt;int&gt; | Cnp_5xFAD_15 &lt;int&gt; | Cnp_5xFAD_16 &lt;int&gt; |\n",
       "|---|---|---|---|---|---|---|---|---|\n",
       "| ENSMUSG00000000001 | 3886 | 1189 | 2897 | 1402 | 1459 | 1162 | 1033 | 1067 |\n",
       "| ENSMUSG00000000003 |    0 |    0 |    0 |    0 |    0 |    0 |    0 |    0 |\n",
       "| ENSMUSG00000000028 |   87 |   14 |   72 |   34 |   44 |   38 |   41 |   28 |\n",
       "| ENSMUSG00000000031 |    0 |    0 |    1 |    4 |    0 |    0 |    0 |    0 |\n",
       "| ENSMUSG00000000037 |    7 |    1 |    0 |   15 |    4 |    2 |    0 |    4 |\n",
       "| ENSMUSG00000000049 |    0 |    0 |    0 |    0 |    0 |    0 |    1 |    0 |\n",
       "\n"
      ],
      "text/plain": [
       "                   Cnp_ko_5 Cnp_ko_6 Cnp_ko_7 Cnp_ko_8 Cnp_5xFAD_13\n",
       "ENSMUSG00000000001 3886     1189     2897     1402     1459        \n",
       "ENSMUSG00000000003    0        0        0        0        0        \n",
       "ENSMUSG00000000028   87       14       72       34       44        \n",
       "ENSMUSG00000000031    0        0        1        4        0        \n",
       "ENSMUSG00000000037    7        1        0       15        4        \n",
       "ENSMUSG00000000049    0        0        0        0        0        \n",
       "                   Cnp_5xFAD_14 Cnp_5xFAD_15 Cnp_5xFAD_16\n",
       "ENSMUSG00000000001 1162         1033         1067        \n",
       "ENSMUSG00000000003    0            0            0        \n",
       "ENSMUSG00000000028   38           41           28        \n",
       "ENSMUSG00000000031    0            0            0        \n",
       "ENSMUSG00000000037    2            0            4        \n",
       "ENSMUSG00000000049    0            1            0        "
      ]
     },
     "metadata": {},
     "output_type": "display_data"
    },
    {
     "data": {
      "text/html": [
       "<table>\n",
       "<caption>A data.frame: 6 × 8</caption>\n",
       "<thead>\n",
       "\t<tr><th></th><th scope=col>Cnp_ko_5</th><th scope=col>Cnp_ko_6</th><th scope=col>Cnp_ko_7</th><th scope=col>Cnp_ko_8</th><th scope=col>Cnp_5xFAD_13</th><th scope=col>Cnp_5xFAD_14</th><th scope=col>Cnp_5xFAD_15</th><th scope=col>Cnp_5xFAD_16</th></tr>\n",
       "\t<tr><th></th><th scope=col>&lt;dbl&gt;</th><th scope=col>&lt;dbl&gt;</th><th scope=col>&lt;dbl&gt;</th><th scope=col>&lt;dbl&gt;</th><th scope=col>&lt;dbl&gt;</th><th scope=col>&lt;dbl&gt;</th><th scope=col>&lt;dbl&gt;</th><th scope=col>&lt;dbl&gt;</th></tr>\n",
       "</thead>\n",
       "<tbody>\n",
       "\t<tr><th scope=row>ENSMUSG00000000001</th><td>1731.626017</td><td>1448.11835</td><td>1730.0963936</td><td>1359.221004</td><td>1716.147149</td><td>1541.692063</td><td>1540.968497</td><td>1406.854279</td></tr>\n",
       "\t<tr><th scope=row>ENSMUSG00000000003</th><td>   0.000000</td><td>   0.00000</td><td>   0.0000000</td><td>   0.000000</td><td>   0.000000</td><td>   0.000000</td><td>   0.000000</td><td>   0.000000</td></tr>\n",
       "\t<tr><th scope=row>ENSMUSG00000000028</th><td>  38.767747</td><td>  17.05102</td><td>  42.9985987</td><td>  32.962564</td><td>  51.754952</td><td>  50.416780</td><td>  61.161383</td><td>  36.918388</td></tr>\n",
       "\t<tr><th scope=row>ENSMUSG00000000031</th><td>   0.000000</td><td>   0.00000</td><td>   0.5972028</td><td>   3.877949</td><td>   0.000000</td><td>   0.000000</td><td>   0.000000</td><td>   0.000000</td></tr>\n",
       "\t<tr><th scope=row>ENSMUSG00000000037</th><td>   3.119244</td><td>   1.21793</td><td>   0.0000000</td><td>  14.542307</td><td>   4.704996</td><td>   2.653515</td><td>   0.000000</td><td>   5.274055</td></tr>\n",
       "\t<tr><th scope=row>ENSMUSG00000000049</th><td>   0.000000</td><td>   0.00000</td><td>   0.0000000</td><td>   0.000000</td><td>   0.000000</td><td>   0.000000</td><td>   1.491741</td><td>   0.000000</td></tr>\n",
       "</tbody>\n",
       "</table>\n"
      ],
      "text/latex": [
       "A data.frame: 6 × 8\n",
       "\\begin{tabular}{r|llllllll}\n",
       "  & Cnp\\_ko\\_5 & Cnp\\_ko\\_6 & Cnp\\_ko\\_7 & Cnp\\_ko\\_8 & Cnp\\_5xFAD\\_13 & Cnp\\_5xFAD\\_14 & Cnp\\_5xFAD\\_15 & Cnp\\_5xFAD\\_16\\\\\n",
       "  & <dbl> & <dbl> & <dbl> & <dbl> & <dbl> & <dbl> & <dbl> & <dbl>\\\\\n",
       "\\hline\n",
       "\tENSMUSG00000000001 & 1731.626017 & 1448.11835 & 1730.0963936 & 1359.221004 & 1716.147149 & 1541.692063 & 1540.968497 & 1406.854279\\\\\n",
       "\tENSMUSG00000000003 &    0.000000 &    0.00000 &    0.0000000 &    0.000000 &    0.000000 &    0.000000 &    0.000000 &    0.000000\\\\\n",
       "\tENSMUSG00000000028 &   38.767747 &   17.05102 &   42.9985987 &   32.962564 &   51.754952 &   50.416780 &   61.161383 &   36.918388\\\\\n",
       "\tENSMUSG00000000031 &    0.000000 &    0.00000 &    0.5972028 &    3.877949 &    0.000000 &    0.000000 &    0.000000 &    0.000000\\\\\n",
       "\tENSMUSG00000000037 &    3.119244 &    1.21793 &    0.0000000 &   14.542307 &    4.704996 &    2.653515 &    0.000000 &    5.274055\\\\\n",
       "\tENSMUSG00000000049 &    0.000000 &    0.00000 &    0.0000000 &    0.000000 &    0.000000 &    0.000000 &    1.491741 &    0.000000\\\\\n",
       "\\end{tabular}\n"
      ],
      "text/markdown": [
       "\n",
       "A data.frame: 6 × 8\n",
       "\n",
       "| <!--/--> | Cnp_ko_5 &lt;dbl&gt; | Cnp_ko_6 &lt;dbl&gt; | Cnp_ko_7 &lt;dbl&gt; | Cnp_ko_8 &lt;dbl&gt; | Cnp_5xFAD_13 &lt;dbl&gt; | Cnp_5xFAD_14 &lt;dbl&gt; | Cnp_5xFAD_15 &lt;dbl&gt; | Cnp_5xFAD_16 &lt;dbl&gt; |\n",
       "|---|---|---|---|---|---|---|---|---|\n",
       "| ENSMUSG00000000001 | 1731.626017 | 1448.11835 | 1730.0963936 | 1359.221004 | 1716.147149 | 1541.692063 | 1540.968497 | 1406.854279 |\n",
       "| ENSMUSG00000000003 |    0.000000 |    0.00000 |    0.0000000 |    0.000000 |    0.000000 |    0.000000 |    0.000000 |    0.000000 |\n",
       "| ENSMUSG00000000028 |   38.767747 |   17.05102 |   42.9985987 |   32.962564 |   51.754952 |   50.416780 |   61.161383 |   36.918388 |\n",
       "| ENSMUSG00000000031 |    0.000000 |    0.00000 |    0.5972028 |    3.877949 |    0.000000 |    0.000000 |    0.000000 |    0.000000 |\n",
       "| ENSMUSG00000000037 |    3.119244 |    1.21793 |    0.0000000 |   14.542307 |    4.704996 |    2.653515 |    0.000000 |    5.274055 |\n",
       "| ENSMUSG00000000049 |    0.000000 |    0.00000 |    0.0000000 |    0.000000 |    0.000000 |    0.000000 |    1.491741 |    0.000000 |\n",
       "\n"
      ],
      "text/plain": [
       "                   Cnp_ko_5    Cnp_ko_6   Cnp_ko_7     Cnp_ko_8    Cnp_5xFAD_13\n",
       "ENSMUSG00000000001 1731.626017 1448.11835 1730.0963936 1359.221004 1716.147149 \n",
       "ENSMUSG00000000003    0.000000    0.00000    0.0000000    0.000000    0.000000 \n",
       "ENSMUSG00000000028   38.767747   17.05102   42.9985987   32.962564   51.754952 \n",
       "ENSMUSG00000000031    0.000000    0.00000    0.5972028    3.877949    0.000000 \n",
       "ENSMUSG00000000037    3.119244    1.21793    0.0000000   14.542307    4.704996 \n",
       "ENSMUSG00000000049    0.000000    0.00000    0.0000000    0.000000    0.000000 \n",
       "                   Cnp_5xFAD_14 Cnp_5xFAD_15 Cnp_5xFAD_16\n",
       "ENSMUSG00000000001 1541.692063  1540.968497  1406.854279 \n",
       "ENSMUSG00000000003    0.000000     0.000000     0.000000 \n",
       "ENSMUSG00000000028   50.416780    61.161383    36.918388 \n",
       "ENSMUSG00000000031    0.000000     0.000000     0.000000 \n",
       "ENSMUSG00000000037    2.653515     0.000000     5.274055 \n",
       "ENSMUSG00000000049    0.000000     1.491741     0.000000 "
      ]
     },
     "metadata": {},
     "output_type": "display_data"
    }
   ],
   "source": [
    "head(raw)\n",
    "head(rld)"
   ]
  },
  {
   "cell_type": "code",
   "execution_count": 26,
   "metadata": {},
   "outputs": [],
   "source": [
    "for (i in 1:8){\n",
    "    colnames(raw)[[i]]<-paste0(colnames(raw)[[i]],\".\",\"raw_counts\")\n",
    "    colnames(rld)[[i]]<-paste0(colnames(rld)[[i]],\".\",\"_normalised_value\")\n",
    "}"
   ]
  },
  {
   "cell_type": "code",
   "execution_count": 27,
   "metadata": {},
   "outputs": [
    {
     "data": {
      "text/html": [
       "<table>\n",
       "<caption>A data.frame: 6 × 8</caption>\n",
       "<thead>\n",
       "\t<tr><th></th><th scope=col>Cnp_ko_5.raw_counts</th><th scope=col>Cnp_ko_6.raw_counts</th><th scope=col>Cnp_ko_7.raw_counts</th><th scope=col>Cnp_ko_8.raw_counts</th><th scope=col>Cnp_5xFAD_13.raw_counts</th><th scope=col>Cnp_5xFAD_14.raw_counts</th><th scope=col>Cnp_5xFAD_15.raw_counts</th><th scope=col>Cnp_5xFAD_16.raw_counts</th></tr>\n",
       "\t<tr><th></th><th scope=col>&lt;int&gt;</th><th scope=col>&lt;int&gt;</th><th scope=col>&lt;int&gt;</th><th scope=col>&lt;int&gt;</th><th scope=col>&lt;int&gt;</th><th scope=col>&lt;int&gt;</th><th scope=col>&lt;int&gt;</th><th scope=col>&lt;int&gt;</th></tr>\n",
       "</thead>\n",
       "<tbody>\n",
       "\t<tr><th scope=row>ENSMUSG00000000001</th><td>3886</td><td>1189</td><td>2897</td><td>1402</td><td>1459</td><td>1162</td><td>1033</td><td>1067</td></tr>\n",
       "\t<tr><th scope=row>ENSMUSG00000000003</th><td>   0</td><td>   0</td><td>   0</td><td>   0</td><td>   0</td><td>   0</td><td>   0</td><td>   0</td></tr>\n",
       "\t<tr><th scope=row>ENSMUSG00000000028</th><td>  87</td><td>  14</td><td>  72</td><td>  34</td><td>  44</td><td>  38</td><td>  41</td><td>  28</td></tr>\n",
       "\t<tr><th scope=row>ENSMUSG00000000031</th><td>   0</td><td>   0</td><td>   1</td><td>   4</td><td>   0</td><td>   0</td><td>   0</td><td>   0</td></tr>\n",
       "\t<tr><th scope=row>ENSMUSG00000000037</th><td>   7</td><td>   1</td><td>   0</td><td>  15</td><td>   4</td><td>   2</td><td>   0</td><td>   4</td></tr>\n",
       "\t<tr><th scope=row>ENSMUSG00000000049</th><td>   0</td><td>   0</td><td>   0</td><td>   0</td><td>   0</td><td>   0</td><td>   1</td><td>   0</td></tr>\n",
       "</tbody>\n",
       "</table>\n"
      ],
      "text/latex": [
       "A data.frame: 6 × 8\n",
       "\\begin{tabular}{r|llllllll}\n",
       "  & Cnp\\_ko\\_5.raw\\_counts & Cnp\\_ko\\_6.raw\\_counts & Cnp\\_ko\\_7.raw\\_counts & Cnp\\_ko\\_8.raw\\_counts & Cnp\\_5xFAD\\_13.raw\\_counts & Cnp\\_5xFAD\\_14.raw\\_counts & Cnp\\_5xFAD\\_15.raw\\_counts & Cnp\\_5xFAD\\_16.raw\\_counts\\\\\n",
       "  & <int> & <int> & <int> & <int> & <int> & <int> & <int> & <int>\\\\\n",
       "\\hline\n",
       "\tENSMUSG00000000001 & 3886 & 1189 & 2897 & 1402 & 1459 & 1162 & 1033 & 1067\\\\\n",
       "\tENSMUSG00000000003 &    0 &    0 &    0 &    0 &    0 &    0 &    0 &    0\\\\\n",
       "\tENSMUSG00000000028 &   87 &   14 &   72 &   34 &   44 &   38 &   41 &   28\\\\\n",
       "\tENSMUSG00000000031 &    0 &    0 &    1 &    4 &    0 &    0 &    0 &    0\\\\\n",
       "\tENSMUSG00000000037 &    7 &    1 &    0 &   15 &    4 &    2 &    0 &    4\\\\\n",
       "\tENSMUSG00000000049 &    0 &    0 &    0 &    0 &    0 &    0 &    1 &    0\\\\\n",
       "\\end{tabular}\n"
      ],
      "text/markdown": [
       "\n",
       "A data.frame: 6 × 8\n",
       "\n",
       "| <!--/--> | Cnp_ko_5.raw_counts &lt;int&gt; | Cnp_ko_6.raw_counts &lt;int&gt; | Cnp_ko_7.raw_counts &lt;int&gt; | Cnp_ko_8.raw_counts &lt;int&gt; | Cnp_5xFAD_13.raw_counts &lt;int&gt; | Cnp_5xFAD_14.raw_counts &lt;int&gt; | Cnp_5xFAD_15.raw_counts &lt;int&gt; | Cnp_5xFAD_16.raw_counts &lt;int&gt; |\n",
       "|---|---|---|---|---|---|---|---|---|\n",
       "| ENSMUSG00000000001 | 3886 | 1189 | 2897 | 1402 | 1459 | 1162 | 1033 | 1067 |\n",
       "| ENSMUSG00000000003 |    0 |    0 |    0 |    0 |    0 |    0 |    0 |    0 |\n",
       "| ENSMUSG00000000028 |   87 |   14 |   72 |   34 |   44 |   38 |   41 |   28 |\n",
       "| ENSMUSG00000000031 |    0 |    0 |    1 |    4 |    0 |    0 |    0 |    0 |\n",
       "| ENSMUSG00000000037 |    7 |    1 |    0 |   15 |    4 |    2 |    0 |    4 |\n",
       "| ENSMUSG00000000049 |    0 |    0 |    0 |    0 |    0 |    0 |    1 |    0 |\n",
       "\n"
      ],
      "text/plain": [
       "                   Cnp_ko_5.raw_counts Cnp_ko_6.raw_counts Cnp_ko_7.raw_counts\n",
       "ENSMUSG00000000001 3886                1189                2897               \n",
       "ENSMUSG00000000003    0                   0                   0               \n",
       "ENSMUSG00000000028   87                  14                  72               \n",
       "ENSMUSG00000000031    0                   0                   1               \n",
       "ENSMUSG00000000037    7                   1                   0               \n",
       "ENSMUSG00000000049    0                   0                   0               \n",
       "                   Cnp_ko_8.raw_counts Cnp_5xFAD_13.raw_counts\n",
       "ENSMUSG00000000001 1402                1459                   \n",
       "ENSMUSG00000000003    0                   0                   \n",
       "ENSMUSG00000000028   34                  44                   \n",
       "ENSMUSG00000000031    4                   0                   \n",
       "ENSMUSG00000000037   15                   4                   \n",
       "ENSMUSG00000000049    0                   0                   \n",
       "                   Cnp_5xFAD_14.raw_counts Cnp_5xFAD_15.raw_counts\n",
       "ENSMUSG00000000001 1162                    1033                   \n",
       "ENSMUSG00000000003    0                       0                   \n",
       "ENSMUSG00000000028   38                      41                   \n",
       "ENSMUSG00000000031    0                       0                   \n",
       "ENSMUSG00000000037    2                       0                   \n",
       "ENSMUSG00000000049    0                       1                   \n",
       "                   Cnp_5xFAD_16.raw_counts\n",
       "ENSMUSG00000000001 1067                   \n",
       "ENSMUSG00000000003    0                   \n",
       "ENSMUSG00000000028   28                   \n",
       "ENSMUSG00000000031    0                   \n",
       "ENSMUSG00000000037    4                   \n",
       "ENSMUSG00000000049    0                   "
      ]
     },
     "metadata": {},
     "output_type": "display_data"
    },
    {
     "data": {
      "text/html": [
       "<table>\n",
       "<caption>A data.frame: 6 × 8</caption>\n",
       "<thead>\n",
       "\t<tr><th></th><th scope=col>Cnp_ko_5._normalised_value</th><th scope=col>Cnp_ko_6._normalised_value</th><th scope=col>Cnp_ko_7._normalised_value</th><th scope=col>Cnp_ko_8._normalised_value</th><th scope=col>Cnp_5xFAD_13._normalised_value</th><th scope=col>Cnp_5xFAD_14._normalised_value</th><th scope=col>Cnp_5xFAD_15._normalised_value</th><th scope=col>Cnp_5xFAD_16._normalised_value</th></tr>\n",
       "\t<tr><th></th><th scope=col>&lt;dbl&gt;</th><th scope=col>&lt;dbl&gt;</th><th scope=col>&lt;dbl&gt;</th><th scope=col>&lt;dbl&gt;</th><th scope=col>&lt;dbl&gt;</th><th scope=col>&lt;dbl&gt;</th><th scope=col>&lt;dbl&gt;</th><th scope=col>&lt;dbl&gt;</th></tr>\n",
       "</thead>\n",
       "<tbody>\n",
       "\t<tr><th scope=row>ENSMUSG00000000001</th><td>1731.626017</td><td>1448.11835</td><td>1730.0963936</td><td>1359.221004</td><td>1716.147149</td><td>1541.692063</td><td>1540.968497</td><td>1406.854279</td></tr>\n",
       "\t<tr><th scope=row>ENSMUSG00000000003</th><td>   0.000000</td><td>   0.00000</td><td>   0.0000000</td><td>   0.000000</td><td>   0.000000</td><td>   0.000000</td><td>   0.000000</td><td>   0.000000</td></tr>\n",
       "\t<tr><th scope=row>ENSMUSG00000000028</th><td>  38.767747</td><td>  17.05102</td><td>  42.9985987</td><td>  32.962564</td><td>  51.754952</td><td>  50.416780</td><td>  61.161383</td><td>  36.918388</td></tr>\n",
       "\t<tr><th scope=row>ENSMUSG00000000031</th><td>   0.000000</td><td>   0.00000</td><td>   0.5972028</td><td>   3.877949</td><td>   0.000000</td><td>   0.000000</td><td>   0.000000</td><td>   0.000000</td></tr>\n",
       "\t<tr><th scope=row>ENSMUSG00000000037</th><td>   3.119244</td><td>   1.21793</td><td>   0.0000000</td><td>  14.542307</td><td>   4.704996</td><td>   2.653515</td><td>   0.000000</td><td>   5.274055</td></tr>\n",
       "\t<tr><th scope=row>ENSMUSG00000000049</th><td>   0.000000</td><td>   0.00000</td><td>   0.0000000</td><td>   0.000000</td><td>   0.000000</td><td>   0.000000</td><td>   1.491741</td><td>   0.000000</td></tr>\n",
       "</tbody>\n",
       "</table>\n"
      ],
      "text/latex": [
       "A data.frame: 6 × 8\n",
       "\\begin{tabular}{r|llllllll}\n",
       "  & Cnp\\_ko\\_5.\\_normalised\\_value & Cnp\\_ko\\_6.\\_normalised\\_value & Cnp\\_ko\\_7.\\_normalised\\_value & Cnp\\_ko\\_8.\\_normalised\\_value & Cnp\\_5xFAD\\_13.\\_normalised\\_value & Cnp\\_5xFAD\\_14.\\_normalised\\_value & Cnp\\_5xFAD\\_15.\\_normalised\\_value & Cnp\\_5xFAD\\_16.\\_normalised\\_value\\\\\n",
       "  & <dbl> & <dbl> & <dbl> & <dbl> & <dbl> & <dbl> & <dbl> & <dbl>\\\\\n",
       "\\hline\n",
       "\tENSMUSG00000000001 & 1731.626017 & 1448.11835 & 1730.0963936 & 1359.221004 & 1716.147149 & 1541.692063 & 1540.968497 & 1406.854279\\\\\n",
       "\tENSMUSG00000000003 &    0.000000 &    0.00000 &    0.0000000 &    0.000000 &    0.000000 &    0.000000 &    0.000000 &    0.000000\\\\\n",
       "\tENSMUSG00000000028 &   38.767747 &   17.05102 &   42.9985987 &   32.962564 &   51.754952 &   50.416780 &   61.161383 &   36.918388\\\\\n",
       "\tENSMUSG00000000031 &    0.000000 &    0.00000 &    0.5972028 &    3.877949 &    0.000000 &    0.000000 &    0.000000 &    0.000000\\\\\n",
       "\tENSMUSG00000000037 &    3.119244 &    1.21793 &    0.0000000 &   14.542307 &    4.704996 &    2.653515 &    0.000000 &    5.274055\\\\\n",
       "\tENSMUSG00000000049 &    0.000000 &    0.00000 &    0.0000000 &    0.000000 &    0.000000 &    0.000000 &    1.491741 &    0.000000\\\\\n",
       "\\end{tabular}\n"
      ],
      "text/markdown": [
       "\n",
       "A data.frame: 6 × 8\n",
       "\n",
       "| <!--/--> | Cnp_ko_5._normalised_value &lt;dbl&gt; | Cnp_ko_6._normalised_value &lt;dbl&gt; | Cnp_ko_7._normalised_value &lt;dbl&gt; | Cnp_ko_8._normalised_value &lt;dbl&gt; | Cnp_5xFAD_13._normalised_value &lt;dbl&gt; | Cnp_5xFAD_14._normalised_value &lt;dbl&gt; | Cnp_5xFAD_15._normalised_value &lt;dbl&gt; | Cnp_5xFAD_16._normalised_value &lt;dbl&gt; |\n",
       "|---|---|---|---|---|---|---|---|---|\n",
       "| ENSMUSG00000000001 | 1731.626017 | 1448.11835 | 1730.0963936 | 1359.221004 | 1716.147149 | 1541.692063 | 1540.968497 | 1406.854279 |\n",
       "| ENSMUSG00000000003 |    0.000000 |    0.00000 |    0.0000000 |    0.000000 |    0.000000 |    0.000000 |    0.000000 |    0.000000 |\n",
       "| ENSMUSG00000000028 |   38.767747 |   17.05102 |   42.9985987 |   32.962564 |   51.754952 |   50.416780 |   61.161383 |   36.918388 |\n",
       "| ENSMUSG00000000031 |    0.000000 |    0.00000 |    0.5972028 |    3.877949 |    0.000000 |    0.000000 |    0.000000 |    0.000000 |\n",
       "| ENSMUSG00000000037 |    3.119244 |    1.21793 |    0.0000000 |   14.542307 |    4.704996 |    2.653515 |    0.000000 |    5.274055 |\n",
       "| ENSMUSG00000000049 |    0.000000 |    0.00000 |    0.0000000 |    0.000000 |    0.000000 |    0.000000 |    1.491741 |    0.000000 |\n",
       "\n"
      ],
      "text/plain": [
       "                   Cnp_ko_5._normalised_value Cnp_ko_6._normalised_value\n",
       "ENSMUSG00000000001 1731.626017                1448.11835                \n",
       "ENSMUSG00000000003    0.000000                   0.00000                \n",
       "ENSMUSG00000000028   38.767747                  17.05102                \n",
       "ENSMUSG00000000031    0.000000                   0.00000                \n",
       "ENSMUSG00000000037    3.119244                   1.21793                \n",
       "ENSMUSG00000000049    0.000000                   0.00000                \n",
       "                   Cnp_ko_7._normalised_value Cnp_ko_8._normalised_value\n",
       "ENSMUSG00000000001 1730.0963936               1359.221004               \n",
       "ENSMUSG00000000003    0.0000000                  0.000000               \n",
       "ENSMUSG00000000028   42.9985987                 32.962564               \n",
       "ENSMUSG00000000031    0.5972028                  3.877949               \n",
       "ENSMUSG00000000037    0.0000000                 14.542307               \n",
       "ENSMUSG00000000049    0.0000000                  0.000000               \n",
       "                   Cnp_5xFAD_13._normalised_value\n",
       "ENSMUSG00000000001 1716.147149                   \n",
       "ENSMUSG00000000003    0.000000                   \n",
       "ENSMUSG00000000028   51.754952                   \n",
       "ENSMUSG00000000031    0.000000                   \n",
       "ENSMUSG00000000037    4.704996                   \n",
       "ENSMUSG00000000049    0.000000                   \n",
       "                   Cnp_5xFAD_14._normalised_value\n",
       "ENSMUSG00000000001 1541.692063                   \n",
       "ENSMUSG00000000003    0.000000                   \n",
       "ENSMUSG00000000028   50.416780                   \n",
       "ENSMUSG00000000031    0.000000                   \n",
       "ENSMUSG00000000037    2.653515                   \n",
       "ENSMUSG00000000049    0.000000                   \n",
       "                   Cnp_5xFAD_15._normalised_value\n",
       "ENSMUSG00000000001 1540.968497                   \n",
       "ENSMUSG00000000003    0.000000                   \n",
       "ENSMUSG00000000028   61.161383                   \n",
       "ENSMUSG00000000031    0.000000                   \n",
       "ENSMUSG00000000037    0.000000                   \n",
       "ENSMUSG00000000049    1.491741                   \n",
       "                   Cnp_5xFAD_16._normalised_value\n",
       "ENSMUSG00000000001 1406.854279                   \n",
       "ENSMUSG00000000003    0.000000                   \n",
       "ENSMUSG00000000028   36.918388                   \n",
       "ENSMUSG00000000031    0.000000                   \n",
       "ENSMUSG00000000037    5.274055                   \n",
       "ENSMUSG00000000049    0.000000                   "
      ]
     },
     "metadata": {},
     "output_type": "display_data"
    }
   ],
   "source": [
    "head(raw)\n",
    "head(rld)"
   ]
  },
  {
   "cell_type": "code",
   "execution_count": 28,
   "metadata": {},
   "outputs": [],
   "source": [
    "raw$gene_name<-rownames(raw)\n",
    "rld$gene_name<-rownames(rld)\n",
    "res$gene_name<-rownames(res)"
   ]
  },
  {
   "cell_type": "code",
   "execution_count": 29,
   "metadata": {},
   "outputs": [],
   "source": [
    "res<-as.data.frame(res[rownames(raw),])"
   ]
  },
  {
   "cell_type": "code",
   "execution_count": 30,
   "metadata": {},
   "outputs": [],
   "source": [
    "################################\n",
    "colnames(res)[1:6]<-paste0(\"Cnp5xFAD_vs_Cnpko_\",colnames(res)[1:6])"
   ]
  },
  {
   "cell_type": "code",
   "execution_count": 32,
   "metadata": {},
   "outputs": [],
   "source": [
    "pre<-merge(x = res, y = raw, by = \"gene_name\")\n",
    "all<-merge(x = pre, y = rld, by = \"gene_name\")"
   ]
  },
  {
   "cell_type": "code",
   "execution_count": 33,
   "metadata": {},
   "outputs": [
    {
     "data": {
      "text/html": [
       "<table>\n",
       "<caption>A data.frame: 6 × 23</caption>\n",
       "<thead>\n",
       "\t<tr><th scope=col>gene_name</th><th scope=col>Cnp5xFAD_vs_Cnpko_baseMean</th><th scope=col>Cnp5xFAD_vs_Cnpko_log2FoldChange</th><th scope=col>Cnp5xFAD_vs_Cnpko_lfcSE</th><th scope=col>Cnp5xFAD_vs_Cnpko_stat</th><th scope=col>Cnp5xFAD_vs_Cnpko_pvalue</th><th scope=col>Cnp5xFAD_vs_Cnpko_padj</th><th scope=col>Cnp_ko_5.raw_counts</th><th scope=col>Cnp_ko_6.raw_counts</th><th scope=col>Cnp_ko_7.raw_counts</th><th scope=col>⋯</th><th scope=col>Cnp_5xFAD_15.raw_counts</th><th scope=col>Cnp_5xFAD_16.raw_counts</th><th scope=col>Cnp_ko_5._normalised_value</th><th scope=col>Cnp_ko_6._normalised_value</th><th scope=col>Cnp_ko_7._normalised_value</th><th scope=col>Cnp_ko_8._normalised_value</th><th scope=col>Cnp_5xFAD_13._normalised_value</th><th scope=col>Cnp_5xFAD_14._normalised_value</th><th scope=col>Cnp_5xFAD_15._normalised_value</th><th scope=col>Cnp_5xFAD_16._normalised_value</th></tr>\n",
       "\t<tr><th scope=col>&lt;chr&gt;</th><th scope=col>&lt;dbl&gt;</th><th scope=col>&lt;dbl&gt;</th><th scope=col>&lt;dbl&gt;</th><th scope=col>&lt;dbl&gt;</th><th scope=col>&lt;dbl&gt;</th><th scope=col>&lt;dbl&gt;</th><th scope=col>&lt;int&gt;</th><th scope=col>&lt;int&gt;</th><th scope=col>&lt;int&gt;</th><th scope=col>⋯</th><th scope=col>&lt;int&gt;</th><th scope=col>&lt;int&gt;</th><th scope=col>&lt;dbl&gt;</th><th scope=col>&lt;dbl&gt;</th><th scope=col>&lt;dbl&gt;</th><th scope=col>&lt;dbl&gt;</th><th scope=col>&lt;dbl&gt;</th><th scope=col>&lt;dbl&gt;</th><th scope=col>&lt;dbl&gt;</th><th scope=col>&lt;dbl&gt;</th></tr>\n",
       "</thead>\n",
       "<tbody>\n",
       "\t<tr><td>ENSMUSG00000000001</td><td>1559.3404697</td><td>-0.01579461</td><td>0.1433415</td><td>-0.1101886</td><td>0.9122598</td><td>0.9636215</td><td>3886</td><td>1189</td><td>2897</td><td>⋯</td><td>1033</td><td>1067</td><td>1731.626017</td><td>1448.11835</td><td>1730.0963936</td><td>1359.221004</td><td>1716.147149</td><td>1541.692063</td><td>1540.968497</td><td>1406.854279</td></tr>\n",
       "\t<tr><td>ENSMUSG00000000003</td><td>   0.0000000</td><td>         NA</td><td>       NA</td><td>        NA</td><td>       NA</td><td>       NA</td><td>   0</td><td>   0</td><td>   0</td><td>⋯</td><td>   0</td><td>   0</td><td>   0.000000</td><td>   0.00000</td><td>   0.0000000</td><td>   0.000000</td><td>   0.000000</td><td>   0.000000</td><td>   0.000000</td><td>   0.000000</td></tr>\n",
       "\t<tr><td>ENSMUSG00000000028</td><td>  41.5039283</td><td> 0.57408387</td><td>0.3566513</td><td> 1.6096505</td><td>0.1074742</td><td>0.3188940</td><td>  87</td><td>  14</td><td>  72</td><td>⋯</td><td>  41</td><td>  28</td><td>  38.767747</td><td>  17.05102</td><td>  42.9985987</td><td>  32.962564</td><td>  51.754952</td><td>  50.416780</td><td>  61.161383</td><td>  36.918388</td></tr>\n",
       "\t<tr><td>ENSMUSG00000000031</td><td>   0.5593939</td><td>-2.18537904</td><td>3.3980416</td><td>-0.6431290</td><td>0.5201404</td><td>       NA</td><td>   0</td><td>   0</td><td>   1</td><td>⋯</td><td>   0</td><td>   0</td><td>   0.000000</td><td>   0.00000</td><td>   0.5972028</td><td>   3.877949</td><td>   0.000000</td><td>   0.000000</td><td>   0.000000</td><td>   0.000000</td></tr>\n",
       "\t<tr><td>ENSMUSG00000000037</td><td>   3.9390059</td><td>-0.54687727</td><td>1.3526168</td><td>-0.4043106</td><td>0.6859844</td><td>0.8487025</td><td>   7</td><td>   1</td><td>   0</td><td>⋯</td><td>   0</td><td>   4</td><td>   3.119244</td><td>   1.21793</td><td>   0.0000000</td><td>  14.542307</td><td>   4.704996</td><td>   2.653515</td><td>   0.000000</td><td>   5.274055</td></tr>\n",
       "\t<tr><td>ENSMUSG00000000049</td><td>   0.1864676</td><td> 1.54334765</td><td>3.5338115</td><td> 0.4367374</td><td>0.6623018</td><td>       NA</td><td>   0</td><td>   0</td><td>   0</td><td>⋯</td><td>   1</td><td>   0</td><td>   0.000000</td><td>   0.00000</td><td>   0.0000000</td><td>   0.000000</td><td>   0.000000</td><td>   0.000000</td><td>   1.491741</td><td>   0.000000</td></tr>\n",
       "</tbody>\n",
       "</table>\n"
      ],
      "text/latex": [
       "A data.frame: 6 × 23\n",
       "\\begin{tabular}{r|lllllllllllllllllllllll}\n",
       " gene\\_name & Cnp5xFAD\\_vs\\_Cnpko\\_baseMean & Cnp5xFAD\\_vs\\_Cnpko\\_log2FoldChange & Cnp5xFAD\\_vs\\_Cnpko\\_lfcSE & Cnp5xFAD\\_vs\\_Cnpko\\_stat & Cnp5xFAD\\_vs\\_Cnpko\\_pvalue & Cnp5xFAD\\_vs\\_Cnpko\\_padj & Cnp\\_ko\\_5.raw\\_counts & Cnp\\_ko\\_6.raw\\_counts & Cnp\\_ko\\_7.raw\\_counts & Cnp\\_ko\\_8.raw\\_counts & Cnp\\_5xFAD\\_13.raw\\_counts & Cnp\\_5xFAD\\_14.raw\\_counts & Cnp\\_5xFAD\\_15.raw\\_counts & Cnp\\_5xFAD\\_16.raw\\_counts & Cnp\\_ko\\_5.\\_normalised\\_value & Cnp\\_ko\\_6.\\_normalised\\_value & Cnp\\_ko\\_7.\\_normalised\\_value & Cnp\\_ko\\_8.\\_normalised\\_value & Cnp\\_5xFAD\\_13.\\_normalised\\_value & Cnp\\_5xFAD\\_14.\\_normalised\\_value & Cnp\\_5xFAD\\_15.\\_normalised\\_value & Cnp\\_5xFAD\\_16.\\_normalised\\_value\\\\\n",
       " <chr> & <dbl> & <dbl> & <dbl> & <dbl> & <dbl> & <dbl> & <int> & <int> & <int> & <int> & <int> & <int> & <int> & <int> & <dbl> & <dbl> & <dbl> & <dbl> & <dbl> & <dbl> & <dbl> & <dbl>\\\\\n",
       "\\hline\n",
       "\t ENSMUSG00000000001 & 1559.3404697 & -0.01579461 & 0.1433415 & -0.1101886 & 0.9122598 & 0.9636215 & 3886 & 1189 & 2897 & 1402 & 1459 & 1162 & 1033 & 1067 & 1731.626017 & 1448.11835 & 1730.0963936 & 1359.221004 & 1716.147149 & 1541.692063 & 1540.968497 & 1406.854279\\\\\n",
       "\t ENSMUSG00000000003 &    0.0000000 &          NA &        NA &         NA &        NA &        NA &    0 &    0 &    0 &    0 &    0 &    0 &    0 &    0 &    0.000000 &    0.00000 &    0.0000000 &    0.000000 &    0.000000 &    0.000000 &    0.000000 &    0.000000\\\\\n",
       "\t ENSMUSG00000000028 &   41.5039283 &  0.57408387 & 0.3566513 &  1.6096505 & 0.1074742 & 0.3188940 &   87 &   14 &   72 &   34 &   44 &   38 &   41 &   28 &   38.767747 &   17.05102 &   42.9985987 &   32.962564 &   51.754952 &   50.416780 &   61.161383 &   36.918388\\\\\n",
       "\t ENSMUSG00000000031 &    0.5593939 & -2.18537904 & 3.3980416 & -0.6431290 & 0.5201404 &        NA &    0 &    0 &    1 &    4 &    0 &    0 &    0 &    0 &    0.000000 &    0.00000 &    0.5972028 &    3.877949 &    0.000000 &    0.000000 &    0.000000 &    0.000000\\\\\n",
       "\t ENSMUSG00000000037 &    3.9390059 & -0.54687727 & 1.3526168 & -0.4043106 & 0.6859844 & 0.8487025 &    7 &    1 &    0 &   15 &    4 &    2 &    0 &    4 &    3.119244 &    1.21793 &    0.0000000 &   14.542307 &    4.704996 &    2.653515 &    0.000000 &    5.274055\\\\\n",
       "\t ENSMUSG00000000049 &    0.1864676 &  1.54334765 & 3.5338115 &  0.4367374 & 0.6623018 &        NA &    0 &    0 &    0 &    0 &    0 &    0 &    1 &    0 &    0.000000 &    0.00000 &    0.0000000 &    0.000000 &    0.000000 &    0.000000 &    1.491741 &    0.000000\\\\\n",
       "\\end{tabular}\n"
      ],
      "text/markdown": [
       "\n",
       "A data.frame: 6 × 23\n",
       "\n",
       "| gene_name &lt;chr&gt; | Cnp5xFAD_vs_Cnpko_baseMean &lt;dbl&gt; | Cnp5xFAD_vs_Cnpko_log2FoldChange &lt;dbl&gt; | Cnp5xFAD_vs_Cnpko_lfcSE &lt;dbl&gt; | Cnp5xFAD_vs_Cnpko_stat &lt;dbl&gt; | Cnp5xFAD_vs_Cnpko_pvalue &lt;dbl&gt; | Cnp5xFAD_vs_Cnpko_padj &lt;dbl&gt; | Cnp_ko_5.raw_counts &lt;int&gt; | Cnp_ko_6.raw_counts &lt;int&gt; | Cnp_ko_7.raw_counts &lt;int&gt; | ⋯ ⋯ | Cnp_5xFAD_15.raw_counts &lt;int&gt; | Cnp_5xFAD_16.raw_counts &lt;int&gt; | Cnp_ko_5._normalised_value &lt;dbl&gt; | Cnp_ko_6._normalised_value &lt;dbl&gt; | Cnp_ko_7._normalised_value &lt;dbl&gt; | Cnp_ko_8._normalised_value &lt;dbl&gt; | Cnp_5xFAD_13._normalised_value &lt;dbl&gt; | Cnp_5xFAD_14._normalised_value &lt;dbl&gt; | Cnp_5xFAD_15._normalised_value &lt;dbl&gt; | Cnp_5xFAD_16._normalised_value &lt;dbl&gt; |\n",
       "|---|---|---|---|---|---|---|---|---|---|---|---|---|---|---|---|---|---|---|---|---|\n",
       "| ENSMUSG00000000001 | 1559.3404697 | -0.01579461 | 0.1433415 | -0.1101886 | 0.9122598 | 0.9636215 | 3886 | 1189 | 2897 | ⋯ | 1033 | 1067 | 1731.626017 | 1448.11835 | 1730.0963936 | 1359.221004 | 1716.147149 | 1541.692063 | 1540.968497 | 1406.854279 |\n",
       "| ENSMUSG00000000003 |    0.0000000 |          NA |        NA |         NA |        NA |        NA |    0 |    0 |    0 | ⋯ |    0 |    0 |    0.000000 |    0.00000 |    0.0000000 |    0.000000 |    0.000000 |    0.000000 |    0.000000 |    0.000000 |\n",
       "| ENSMUSG00000000028 |   41.5039283 |  0.57408387 | 0.3566513 |  1.6096505 | 0.1074742 | 0.3188940 |   87 |   14 |   72 | ⋯ |   41 |   28 |   38.767747 |   17.05102 |   42.9985987 |   32.962564 |   51.754952 |   50.416780 |   61.161383 |   36.918388 |\n",
       "| ENSMUSG00000000031 |    0.5593939 | -2.18537904 | 3.3980416 | -0.6431290 | 0.5201404 |        NA |    0 |    0 |    1 | ⋯ |    0 |    0 |    0.000000 |    0.00000 |    0.5972028 |    3.877949 |    0.000000 |    0.000000 |    0.000000 |    0.000000 |\n",
       "| ENSMUSG00000000037 |    3.9390059 | -0.54687727 | 1.3526168 | -0.4043106 | 0.6859844 | 0.8487025 |    7 |    1 |    0 | ⋯ |    0 |    4 |    3.119244 |    1.21793 |    0.0000000 |   14.542307 |    4.704996 |    2.653515 |    0.000000 |    5.274055 |\n",
       "| ENSMUSG00000000049 |    0.1864676 |  1.54334765 | 3.5338115 |  0.4367374 | 0.6623018 |        NA |    0 |    0 |    0 | ⋯ |    1 |    0 |    0.000000 |    0.00000 |    0.0000000 |    0.000000 |    0.000000 |    0.000000 |    1.491741 |    0.000000 |\n",
       "\n"
      ],
      "text/plain": [
       "  gene_name          Cnp5xFAD_vs_Cnpko_baseMean\n",
       "1 ENSMUSG00000000001 1559.3404697              \n",
       "2 ENSMUSG00000000003    0.0000000              \n",
       "3 ENSMUSG00000000028   41.5039283              \n",
       "4 ENSMUSG00000000031    0.5593939              \n",
       "5 ENSMUSG00000000037    3.9390059              \n",
       "6 ENSMUSG00000000049    0.1864676              \n",
       "  Cnp5xFAD_vs_Cnpko_log2FoldChange Cnp5xFAD_vs_Cnpko_lfcSE\n",
       "1 -0.01579461                      0.1433415              \n",
       "2          NA                             NA              \n",
       "3  0.57408387                      0.3566513              \n",
       "4 -2.18537904                      3.3980416              \n",
       "5 -0.54687727                      1.3526168              \n",
       "6  1.54334765                      3.5338115              \n",
       "  Cnp5xFAD_vs_Cnpko_stat Cnp5xFAD_vs_Cnpko_pvalue Cnp5xFAD_vs_Cnpko_padj\n",
       "1 -0.1101886             0.9122598                0.9636215             \n",
       "2         NA                    NA                       NA             \n",
       "3  1.6096505             0.1074742                0.3188940             \n",
       "4 -0.6431290             0.5201404                       NA             \n",
       "5 -0.4043106             0.6859844                0.8487025             \n",
       "6  0.4367374             0.6623018                       NA             \n",
       "  Cnp_ko_5.raw_counts Cnp_ko_6.raw_counts Cnp_ko_7.raw_counts ⋯\n",
       "1 3886                1189                2897                ⋯\n",
       "2    0                   0                   0                ⋯\n",
       "3   87                  14                  72                ⋯\n",
       "4    0                   0                   1                ⋯\n",
       "5    7                   1                   0                ⋯\n",
       "6    0                   0                   0                ⋯\n",
       "  Cnp_5xFAD_15.raw_counts Cnp_5xFAD_16.raw_counts Cnp_ko_5._normalised_value\n",
       "1 1033                    1067                    1731.626017               \n",
       "2    0                       0                       0.000000               \n",
       "3   41                      28                      38.767747               \n",
       "4    0                       0                       0.000000               \n",
       "5    0                       4                       3.119244               \n",
       "6    1                       0                       0.000000               \n",
       "  Cnp_ko_6._normalised_value Cnp_ko_7._normalised_value\n",
       "1 1448.11835                 1730.0963936              \n",
       "2    0.00000                    0.0000000              \n",
       "3   17.05102                   42.9985987              \n",
       "4    0.00000                    0.5972028              \n",
       "5    1.21793                    0.0000000              \n",
       "6    0.00000                    0.0000000              \n",
       "  Cnp_ko_8._normalised_value Cnp_5xFAD_13._normalised_value\n",
       "1 1359.221004                1716.147149                   \n",
       "2    0.000000                   0.000000                   \n",
       "3   32.962564                  51.754952                   \n",
       "4    3.877949                   0.000000                   \n",
       "5   14.542307                   4.704996                   \n",
       "6    0.000000                   0.000000                   \n",
       "  Cnp_5xFAD_14._normalised_value Cnp_5xFAD_15._normalised_value\n",
       "1 1541.692063                    1540.968497                   \n",
       "2    0.000000                       0.000000                   \n",
       "3   50.416780                      61.161383                   \n",
       "4    0.000000                       0.000000                   \n",
       "5    2.653515                       0.000000                   \n",
       "6    0.000000                       1.491741                   \n",
       "  Cnp_5xFAD_16._normalised_value\n",
       "1 1406.854279                   \n",
       "2    0.000000                   \n",
       "3   36.918388                   \n",
       "4    0.000000                   \n",
       "5    5.274055                   \n",
       "6    0.000000                   "
      ]
     },
     "metadata": {},
     "output_type": "display_data"
    }
   ],
   "source": [
    "head(all)"
   ]
  },
  {
   "cell_type": "code",
   "execution_count": 34,
   "metadata": {},
   "outputs": [],
   "source": [
    "#######################\n",
    "all<-all[order(all$Cnp5xFAD_vs_Cnpko_padj, decreasing = F),]"
   ]
  },
  {
   "cell_type": "code",
   "execution_count": 35,
   "metadata": {},
   "outputs": [
    {
     "data": {
      "text/html": [
       "<table>\n",
       "<caption>A data.frame: 6 × 23</caption>\n",
       "<thead>\n",
       "\t<tr><th></th><th scope=col>gene_name</th><th scope=col>Cnp5xFAD_vs_Cnpko_baseMean</th><th scope=col>Cnp5xFAD_vs_Cnpko_log2FoldChange</th><th scope=col>Cnp5xFAD_vs_Cnpko_lfcSE</th><th scope=col>Cnp5xFAD_vs_Cnpko_stat</th><th scope=col>Cnp5xFAD_vs_Cnpko_pvalue</th><th scope=col>Cnp5xFAD_vs_Cnpko_padj</th><th scope=col>Cnp_ko_5.raw_counts</th><th scope=col>Cnp_ko_6.raw_counts</th><th scope=col>Cnp_ko_7.raw_counts</th><th scope=col>⋯</th><th scope=col>Cnp_5xFAD_15.raw_counts</th><th scope=col>Cnp_5xFAD_16.raw_counts</th><th scope=col>Cnp_ko_5._normalised_value</th><th scope=col>Cnp_ko_6._normalised_value</th><th scope=col>Cnp_ko_7._normalised_value</th><th scope=col>Cnp_ko_8._normalised_value</th><th scope=col>Cnp_5xFAD_13._normalised_value</th><th scope=col>Cnp_5xFAD_14._normalised_value</th><th scope=col>Cnp_5xFAD_15._normalised_value</th><th scope=col>Cnp_5xFAD_16._normalised_value</th></tr>\n",
       "\t<tr><th></th><th scope=col>&lt;chr&gt;</th><th scope=col>&lt;dbl&gt;</th><th scope=col>&lt;dbl&gt;</th><th scope=col>&lt;dbl&gt;</th><th scope=col>&lt;dbl&gt;</th><th scope=col>&lt;dbl&gt;</th><th scope=col>&lt;dbl&gt;</th><th scope=col>&lt;int&gt;</th><th scope=col>&lt;int&gt;</th><th scope=col>&lt;int&gt;</th><th scope=col>⋯</th><th scope=col>&lt;int&gt;</th><th scope=col>&lt;int&gt;</th><th scope=col>&lt;dbl&gt;</th><th scope=col>&lt;dbl&gt;</th><th scope=col>&lt;dbl&gt;</th><th scope=col>&lt;dbl&gt;</th><th scope=col>&lt;dbl&gt;</th><th scope=col>&lt;dbl&gt;</th><th scope=col>&lt;dbl&gt;</th><th scope=col>&lt;dbl&gt;</th></tr>\n",
       "</thead>\n",
       "<tbody>\n",
       "\t<tr><th scope=row>8346</th><td>ENSMUSG00000031425</td><td>1884.9768</td><td>-3.936715</td><td>0.2460145</td><td>-16.001960</td><td>1.238158e-57</td><td>2.532033e-53</td><td>8325</td><td>3279</td><td>5729</td><td>⋯</td><td> 103</td><td> 273</td><td>3709.6723</td><td>3993.5913</td><td>3421.3746</td><td>3031.5864</td><td> 217.60605</td><td>192.37982</td><td> 153.64933</td><td> 359.95428</td></tr>\n",
       "\t<tr><th scope=row>10784</th><td>ENSMUSG00000037625</td><td> 191.1735</td><td>-3.677005</td><td>0.2900269</td><td>-12.678152</td><td>7.815309e-37</td><td>7.991153e-33</td><td> 891</td><td> 205</td><td> 537</td><td>⋯</td><td>  18</td><td>  29</td><td> 397.0352</td><td> 249.6756</td><td> 320.6979</td><td> 450.8115</td><td>  23.52498</td><td> 22.55488</td><td>  26.85134</td><td>  38.23690</td></tr>\n",
       "\t<tr><th scope=row>5551</th><td>ENSMUSG00000026442</td><td> 349.5555</td><td>-2.956616</td><td>0.2721640</td><td>-10.863364</td><td>1.722839e-27</td><td>1.174402e-23</td><td>2042</td><td> 498</td><td> 954</td><td>⋯</td><td>  49</td><td>  70</td><td> 909.9280</td><td> 606.5290</td><td> 569.7314</td><td> 390.7033</td><td>  70.57493</td><td> 83.58571</td><td>  73.09531</td><td>  92.29597</td></tr>\n",
       "\t<tr><th scope=row>6077</th><td>ENSMUSG00000027375</td><td> 244.3800</td><td>-2.576419</td><td>0.2641796</td><td> -9.752528</td><td>1.799300e-22</td><td>9.198922e-19</td><td> 965</td><td> 360</td><td> 634</td><td>⋯</td><td>  28</td><td>  76</td><td> 430.0101</td><td> 438.4547</td><td> 378.6265</td><td> 428.5133</td><td>  87.04242</td><td> 50.41678</td><td>  41.76875</td><td> 100.20705</td></tr>\n",
       "\t<tr><th scope=row>1883</th><td>ENSMUSG00000018126</td><td> 690.0241</td><td> 2.810098</td><td>0.2944714</td><td>  9.542854</td><td>1.389540e-21</td><td>5.668449e-18</td><td> 387</td><td> 168</td><td> 219</td><td>⋯</td><td>1193</td><td>1065</td><td> 172.4496</td><td> 204.6122</td><td> 130.7874</td><td> 182.2636</td><td>1008.04531</td><td>638.17029</td><td>1779.64706</td><td>1404.21725</td></tr>\n",
       "\t<tr><th scope=row>6343</th><td>ENSMUSG00000027858</td><td> 159.7806</td><td>-3.162569</td><td>0.3320560</td><td> -9.524204</td><td>1.663115e-21</td><td>5.668449e-18</td><td> 677</td><td> 290</td><td> 423</td><td>⋯</td><td>  16</td><td>  31</td><td> 301.6755</td><td> 353.1996</td><td> 252.6168</td><td> 243.3413</td><td>  49.40245</td><td> 13.26757</td><td>  23.86786</td><td>  40.87393</td></tr>\n",
       "</tbody>\n",
       "</table>\n"
      ],
      "text/latex": [
       "A data.frame: 6 × 23\n",
       "\\begin{tabular}{r|lllllllllllllllllllllll}\n",
       "  & gene\\_name & Cnp5xFAD\\_vs\\_Cnpko\\_baseMean & Cnp5xFAD\\_vs\\_Cnpko\\_log2FoldChange & Cnp5xFAD\\_vs\\_Cnpko\\_lfcSE & Cnp5xFAD\\_vs\\_Cnpko\\_stat & Cnp5xFAD\\_vs\\_Cnpko\\_pvalue & Cnp5xFAD\\_vs\\_Cnpko\\_padj & Cnp\\_ko\\_5.raw\\_counts & Cnp\\_ko\\_6.raw\\_counts & Cnp\\_ko\\_7.raw\\_counts & Cnp\\_ko\\_8.raw\\_counts & Cnp\\_5xFAD\\_13.raw\\_counts & Cnp\\_5xFAD\\_14.raw\\_counts & Cnp\\_5xFAD\\_15.raw\\_counts & Cnp\\_5xFAD\\_16.raw\\_counts & Cnp\\_ko\\_5.\\_normalised\\_value & Cnp\\_ko\\_6.\\_normalised\\_value & Cnp\\_ko\\_7.\\_normalised\\_value & Cnp\\_ko\\_8.\\_normalised\\_value & Cnp\\_5xFAD\\_13.\\_normalised\\_value & Cnp\\_5xFAD\\_14.\\_normalised\\_value & Cnp\\_5xFAD\\_15.\\_normalised\\_value & Cnp\\_5xFAD\\_16.\\_normalised\\_value\\\\\n",
       "  & <chr> & <dbl> & <dbl> & <dbl> & <dbl> & <dbl> & <dbl> & <int> & <int> & <int> & <int> & <int> & <int> & <int> & <int> & <dbl> & <dbl> & <dbl> & <dbl> & <dbl> & <dbl> & <dbl> & <dbl>\\\\\n",
       "\\hline\n",
       "\t8346 & ENSMUSG00000031425 & 1884.9768 & -3.936715 & 0.2460145 & -16.001960 & 1.238158e-57 & 2.532033e-53 & 8325 & 3279 & 5729 & 3127 & 185 & 145 &  103 &  273 & 3709.6723 & 3993.5913 & 3421.3746 & 3031.5864 &  217.60605 & 192.37982 &  153.64933 &  359.95428\\\\\n",
       "\t10784 & ENSMUSG00000037625 &  191.1735 & -3.677005 & 0.2900269 & -12.678152 & 7.815309e-37 & 7.991153e-33 &  891 &  205 &  537 &  465 &  20 &  17 &   18 &   29 &  397.0352 &  249.6756 &  320.6979 &  450.8115 &   23.52498 &  22.55488 &   26.85134 &   38.23690\\\\\n",
       "\t5551 & ENSMUSG00000026442 &  349.5555 & -2.956616 & 0.2721640 & -10.863364 & 1.722839e-27 & 1.174402e-23 & 2042 &  498 &  954 &  403 &  60 &  63 &   49 &   70 &  909.9280 &  606.5290 &  569.7314 &  390.7033 &   70.57493 &  83.58571 &   73.09531 &   92.29597\\\\\n",
       "\t6077 & ENSMUSG00000027375 &  244.3800 & -2.576419 & 0.2641796 &  -9.752528 & 1.799300e-22 & 9.198922e-19 &  965 &  360 &  634 &  442 &  74 &  38 &   28 &   76 &  430.0101 &  438.4547 &  378.6265 &  428.5133 &   87.04242 &  50.41678 &   41.76875 &  100.20705\\\\\n",
       "\t1883 & ENSMUSG00000018126 &  690.0241 &  2.810098 & 0.2944714 &   9.542854 & 1.389540e-21 & 5.668449e-18 &  387 &  168 &  219 &  188 & 857 & 481 & 1193 & 1065 &  172.4496 &  204.6122 &  130.7874 &  182.2636 & 1008.04531 & 638.17029 & 1779.64706 & 1404.21725\\\\\n",
       "\t6343 & ENSMUSG00000027858 &  159.7806 & -3.162569 & 0.3320560 &  -9.524204 & 1.663115e-21 & 5.668449e-18 &  677 &  290 &  423 &  251 &  42 &  10 &   16 &   31 &  301.6755 &  353.1996 &  252.6168 &  243.3413 &   49.40245 &  13.26757 &   23.86786 &   40.87393\\\\\n",
       "\\end{tabular}\n"
      ],
      "text/markdown": [
       "\n",
       "A data.frame: 6 × 23\n",
       "\n",
       "| <!--/--> | gene_name &lt;chr&gt; | Cnp5xFAD_vs_Cnpko_baseMean &lt;dbl&gt; | Cnp5xFAD_vs_Cnpko_log2FoldChange &lt;dbl&gt; | Cnp5xFAD_vs_Cnpko_lfcSE &lt;dbl&gt; | Cnp5xFAD_vs_Cnpko_stat &lt;dbl&gt; | Cnp5xFAD_vs_Cnpko_pvalue &lt;dbl&gt; | Cnp5xFAD_vs_Cnpko_padj &lt;dbl&gt; | Cnp_ko_5.raw_counts &lt;int&gt; | Cnp_ko_6.raw_counts &lt;int&gt; | Cnp_ko_7.raw_counts &lt;int&gt; | ⋯ ⋯ | Cnp_5xFAD_15.raw_counts &lt;int&gt; | Cnp_5xFAD_16.raw_counts &lt;int&gt; | Cnp_ko_5._normalised_value &lt;dbl&gt; | Cnp_ko_6._normalised_value &lt;dbl&gt; | Cnp_ko_7._normalised_value &lt;dbl&gt; | Cnp_ko_8._normalised_value &lt;dbl&gt; | Cnp_5xFAD_13._normalised_value &lt;dbl&gt; | Cnp_5xFAD_14._normalised_value &lt;dbl&gt; | Cnp_5xFAD_15._normalised_value &lt;dbl&gt; | Cnp_5xFAD_16._normalised_value &lt;dbl&gt; |\n",
       "|---|---|---|---|---|---|---|---|---|---|---|---|---|---|---|---|---|---|---|---|---|---|\n",
       "| 8346 | ENSMUSG00000031425 | 1884.9768 | -3.936715 | 0.2460145 | -16.001960 | 1.238158e-57 | 2.532033e-53 | 8325 | 3279 | 5729 | ⋯ |  103 |  273 | 3709.6723 | 3993.5913 | 3421.3746 | 3031.5864 |  217.60605 | 192.37982 |  153.64933 |  359.95428 |\n",
       "| 10784 | ENSMUSG00000037625 |  191.1735 | -3.677005 | 0.2900269 | -12.678152 | 7.815309e-37 | 7.991153e-33 |  891 |  205 |  537 | ⋯ |   18 |   29 |  397.0352 |  249.6756 |  320.6979 |  450.8115 |   23.52498 |  22.55488 |   26.85134 |   38.23690 |\n",
       "| 5551 | ENSMUSG00000026442 |  349.5555 | -2.956616 | 0.2721640 | -10.863364 | 1.722839e-27 | 1.174402e-23 | 2042 |  498 |  954 | ⋯ |   49 |   70 |  909.9280 |  606.5290 |  569.7314 |  390.7033 |   70.57493 |  83.58571 |   73.09531 |   92.29597 |\n",
       "| 6077 | ENSMUSG00000027375 |  244.3800 | -2.576419 | 0.2641796 |  -9.752528 | 1.799300e-22 | 9.198922e-19 |  965 |  360 |  634 | ⋯ |   28 |   76 |  430.0101 |  438.4547 |  378.6265 |  428.5133 |   87.04242 |  50.41678 |   41.76875 |  100.20705 |\n",
       "| 1883 | ENSMUSG00000018126 |  690.0241 |  2.810098 | 0.2944714 |   9.542854 | 1.389540e-21 | 5.668449e-18 |  387 |  168 |  219 | ⋯ | 1193 | 1065 |  172.4496 |  204.6122 |  130.7874 |  182.2636 | 1008.04531 | 638.17029 | 1779.64706 | 1404.21725 |\n",
       "| 6343 | ENSMUSG00000027858 |  159.7806 | -3.162569 | 0.3320560 |  -9.524204 | 1.663115e-21 | 5.668449e-18 |  677 |  290 |  423 | ⋯ |   16 |   31 |  301.6755 |  353.1996 |  252.6168 |  243.3413 |   49.40245 |  13.26757 |   23.86786 |   40.87393 |\n",
       "\n"
      ],
      "text/plain": [
       "      gene_name          Cnp5xFAD_vs_Cnpko_baseMean\n",
       "8346  ENSMUSG00000031425 1884.9768                 \n",
       "10784 ENSMUSG00000037625  191.1735                 \n",
       "5551  ENSMUSG00000026442  349.5555                 \n",
       "6077  ENSMUSG00000027375  244.3800                 \n",
       "1883  ENSMUSG00000018126  690.0241                 \n",
       "6343  ENSMUSG00000027858  159.7806                 \n",
       "      Cnp5xFAD_vs_Cnpko_log2FoldChange Cnp5xFAD_vs_Cnpko_lfcSE\n",
       "8346  -3.936715                        0.2460145              \n",
       "10784 -3.677005                        0.2900269              \n",
       "5551  -2.956616                        0.2721640              \n",
       "6077  -2.576419                        0.2641796              \n",
       "1883   2.810098                        0.2944714              \n",
       "6343  -3.162569                        0.3320560              \n",
       "      Cnp5xFAD_vs_Cnpko_stat Cnp5xFAD_vs_Cnpko_pvalue Cnp5xFAD_vs_Cnpko_padj\n",
       "8346  -16.001960             1.238158e-57             2.532033e-53          \n",
       "10784 -12.678152             7.815309e-37             7.991153e-33          \n",
       "5551  -10.863364             1.722839e-27             1.174402e-23          \n",
       "6077   -9.752528             1.799300e-22             9.198922e-19          \n",
       "1883    9.542854             1.389540e-21             5.668449e-18          \n",
       "6343   -9.524204             1.663115e-21             5.668449e-18          \n",
       "      Cnp_ko_5.raw_counts Cnp_ko_6.raw_counts Cnp_ko_7.raw_counts ⋯\n",
       "8346  8325                3279                5729                ⋯\n",
       "10784  891                 205                 537                ⋯\n",
       "5551  2042                 498                 954                ⋯\n",
       "6077   965                 360                 634                ⋯\n",
       "1883   387                 168                 219                ⋯\n",
       "6343   677                 290                 423                ⋯\n",
       "      Cnp_5xFAD_15.raw_counts Cnp_5xFAD_16.raw_counts\n",
       "8346   103                     273                   \n",
       "10784   18                      29                   \n",
       "5551    49                      70                   \n",
       "6077    28                      76                   \n",
       "1883  1193                    1065                   \n",
       "6343    16                      31                   \n",
       "      Cnp_ko_5._normalised_value Cnp_ko_6._normalised_value\n",
       "8346  3709.6723                  3993.5913                 \n",
       "10784  397.0352                   249.6756                 \n",
       "5551   909.9280                   606.5290                 \n",
       "6077   430.0101                   438.4547                 \n",
       "1883   172.4496                   204.6122                 \n",
       "6343   301.6755                   353.1996                 \n",
       "      Cnp_ko_7._normalised_value Cnp_ko_8._normalised_value\n",
       "8346  3421.3746                  3031.5864                 \n",
       "10784  320.6979                   450.8115                 \n",
       "5551   569.7314                   390.7033                 \n",
       "6077   378.6265                   428.5133                 \n",
       "1883   130.7874                   182.2636                 \n",
       "6343   252.6168                   243.3413                 \n",
       "      Cnp_5xFAD_13._normalised_value Cnp_5xFAD_14._normalised_value\n",
       "8346   217.60605                     192.37982                     \n",
       "10784   23.52498                      22.55488                     \n",
       "5551    70.57493                      83.58571                     \n",
       "6077    87.04242                      50.41678                     \n",
       "1883  1008.04531                     638.17029                     \n",
       "6343    49.40245                      13.26757                     \n",
       "      Cnp_5xFAD_15._normalised_value Cnp_5xFAD_16._normalised_value\n",
       "8346   153.64933                      359.95428                    \n",
       "10784   26.85134                       38.23690                    \n",
       "5551    73.09531                       92.29597                    \n",
       "6077    41.76875                      100.20705                    \n",
       "1883  1779.64706                     1404.21725                    \n",
       "6343    23.86786                       40.87393                    "
      ]
     },
     "metadata": {},
     "output_type": "display_data"
    }
   ],
   "source": [
    "head(all)"
   ]
  },
  {
   "cell_type": "code",
   "execution_count": 36,
   "metadata": {},
   "outputs": [
    {
     "data": {
      "text/html": [
       "<table>\n",
       "<caption>A data.frame: 6 × 8</caption>\n",
       "<thead>\n",
       "\t<tr><th scope=col>X</th><th scope=col>ensembl_gene_id</th><th scope=col>mgi_symbol</th><th scope=col>chromosome_name</th><th scope=col>strand</th><th scope=col>start_position</th><th scope=col>end_position</th><th scope=col>gene_biotype</th></tr>\n",
       "\t<tr><th scope=col>&lt;int&gt;</th><th scope=col>&lt;chr&gt;</th><th scope=col>&lt;chr&gt;</th><th scope=col>&lt;chr&gt;</th><th scope=col>&lt;int&gt;</th><th scope=col>&lt;int&gt;</th><th scope=col>&lt;int&gt;</th><th scope=col>&lt;chr&gt;</th></tr>\n",
       "</thead>\n",
       "<tbody>\n",
       "\t<tr><td>1</td><td>ENSMUSG00000064336</td><td>mt-Tf  </td><td>MT</td><td>1</td><td>   1</td><td>  68</td><td>Mt_tRNA       </td></tr>\n",
       "\t<tr><td>2</td><td>ENSMUSG00000064337</td><td>mt-Rnr1</td><td>MT</td><td>1</td><td>  70</td><td>1024</td><td>Mt_rRNA       </td></tr>\n",
       "\t<tr><td>3</td><td>ENSMUSG00000064338</td><td>mt-Tv  </td><td>MT</td><td>1</td><td>1025</td><td>1093</td><td>Mt_tRNA       </td></tr>\n",
       "\t<tr><td>4</td><td>ENSMUSG00000064339</td><td>mt-Rnr2</td><td>MT</td><td>1</td><td>1094</td><td>2675</td><td>Mt_rRNA       </td></tr>\n",
       "\t<tr><td>5</td><td>ENSMUSG00000064340</td><td>mt-Tl1 </td><td>MT</td><td>1</td><td>2676</td><td>2750</td><td>Mt_tRNA       </td></tr>\n",
       "\t<tr><td>6</td><td>ENSMUSG00000064341</td><td>mt-Nd1 </td><td>MT</td><td>1</td><td>2751</td><td>3707</td><td>protein_coding</td></tr>\n",
       "</tbody>\n",
       "</table>\n"
      ],
      "text/latex": [
       "A data.frame: 6 × 8\n",
       "\\begin{tabular}{r|llllllll}\n",
       " X & ensembl\\_gene\\_id & mgi\\_symbol & chromosome\\_name & strand & start\\_position & end\\_position & gene\\_biotype\\\\\n",
       " <int> & <chr> & <chr> & <chr> & <int> & <int> & <int> & <chr>\\\\\n",
       "\\hline\n",
       "\t 1 & ENSMUSG00000064336 & mt-Tf   & MT & 1 &    1 &   68 & Mt\\_tRNA       \\\\\n",
       "\t 2 & ENSMUSG00000064337 & mt-Rnr1 & MT & 1 &   70 & 1024 & Mt\\_rRNA       \\\\\n",
       "\t 3 & ENSMUSG00000064338 & mt-Tv   & MT & 1 & 1025 & 1093 & Mt\\_tRNA       \\\\\n",
       "\t 4 & ENSMUSG00000064339 & mt-Rnr2 & MT & 1 & 1094 & 2675 & Mt\\_rRNA       \\\\\n",
       "\t 5 & ENSMUSG00000064340 & mt-Tl1  & MT & 1 & 2676 & 2750 & Mt\\_tRNA       \\\\\n",
       "\t 6 & ENSMUSG00000064341 & mt-Nd1  & MT & 1 & 2751 & 3707 & protein\\_coding\\\\\n",
       "\\end{tabular}\n"
      ],
      "text/markdown": [
       "\n",
       "A data.frame: 6 × 8\n",
       "\n",
       "| X &lt;int&gt; | ensembl_gene_id &lt;chr&gt; | mgi_symbol &lt;chr&gt; | chromosome_name &lt;chr&gt; | strand &lt;int&gt; | start_position &lt;int&gt; | end_position &lt;int&gt; | gene_biotype &lt;chr&gt; |\n",
       "|---|---|---|---|---|---|---|---|\n",
       "| 1 | ENSMUSG00000064336 | mt-Tf   | MT | 1 |    1 |   68 | Mt_tRNA        |\n",
       "| 2 | ENSMUSG00000064337 | mt-Rnr1 | MT | 1 |   70 | 1024 | Mt_rRNA        |\n",
       "| 3 | ENSMUSG00000064338 | mt-Tv   | MT | 1 | 1025 | 1093 | Mt_tRNA        |\n",
       "| 4 | ENSMUSG00000064339 | mt-Rnr2 | MT | 1 | 1094 | 2675 | Mt_rRNA        |\n",
       "| 5 | ENSMUSG00000064340 | mt-Tl1  | MT | 1 | 2676 | 2750 | Mt_tRNA        |\n",
       "| 6 | ENSMUSG00000064341 | mt-Nd1  | MT | 1 | 2751 | 3707 | protein_coding |\n",
       "\n"
      ],
      "text/plain": [
       "  X ensembl_gene_id    mgi_symbol chromosome_name strand start_position\n",
       "1 1 ENSMUSG00000064336 mt-Tf      MT              1         1          \n",
       "2 2 ENSMUSG00000064337 mt-Rnr1    MT              1        70          \n",
       "3 3 ENSMUSG00000064338 mt-Tv      MT              1      1025          \n",
       "4 4 ENSMUSG00000064339 mt-Rnr2    MT              1      1094          \n",
       "5 5 ENSMUSG00000064340 mt-Tl1     MT              1      2676          \n",
       "6 6 ENSMUSG00000064341 mt-Nd1     MT              1      2751          \n",
       "  end_position gene_biotype  \n",
       "1   68         Mt_tRNA       \n",
       "2 1024         Mt_rRNA       \n",
       "3 1093         Mt_tRNA       \n",
       "4 2675         Mt_rRNA       \n",
       "5 2750         Mt_tRNA       \n",
       "6 3707         protein_coding"
      ]
     },
     "metadata": {},
     "output_type": "display_data"
    }
   ],
   "source": [
    "head(annot)"
   ]
  },
  {
   "cell_type": "code",
   "execution_count": 37,
   "metadata": {},
   "outputs": [],
   "source": [
    "all$ensembl_ID<-all$gene_name"
   ]
  },
  {
   "cell_type": "code",
   "execution_count": 38,
   "metadata": {},
   "outputs": [],
   "source": [
    "for(i in 1:nrow(all)){\n",
    "    position<-match(all$ensembl_ID[[i]], annot$ensembl_gene_id)\n",
    "    all$gene_name[[i]]<-annot$mgi_symbol[position]\n",
    "}"
   ]
  },
  {
   "cell_type": "code",
   "execution_count": 39,
   "metadata": {},
   "outputs": [
    {
     "data": {
      "text/html": [
       "<table>\n",
       "<caption>A data.frame: 6 × 24</caption>\n",
       "<thead>\n",
       "\t<tr><th></th><th scope=col>gene_name</th><th scope=col>Cnp5xFAD_vs_Cnpko_baseMean</th><th scope=col>Cnp5xFAD_vs_Cnpko_log2FoldChange</th><th scope=col>Cnp5xFAD_vs_Cnpko_lfcSE</th><th scope=col>Cnp5xFAD_vs_Cnpko_stat</th><th scope=col>Cnp5xFAD_vs_Cnpko_pvalue</th><th scope=col>Cnp5xFAD_vs_Cnpko_padj</th><th scope=col>Cnp_ko_5.raw_counts</th><th scope=col>Cnp_ko_6.raw_counts</th><th scope=col>Cnp_ko_7.raw_counts</th><th scope=col>⋯</th><th scope=col>Cnp_5xFAD_16.raw_counts</th><th scope=col>Cnp_ko_5._normalised_value</th><th scope=col>Cnp_ko_6._normalised_value</th><th scope=col>Cnp_ko_7._normalised_value</th><th scope=col>Cnp_ko_8._normalised_value</th><th scope=col>Cnp_5xFAD_13._normalised_value</th><th scope=col>Cnp_5xFAD_14._normalised_value</th><th scope=col>Cnp_5xFAD_15._normalised_value</th><th scope=col>Cnp_5xFAD_16._normalised_value</th><th scope=col>ensembl_ID</th></tr>\n",
       "\t<tr><th></th><th scope=col>&lt;chr&gt;</th><th scope=col>&lt;dbl&gt;</th><th scope=col>&lt;dbl&gt;</th><th scope=col>&lt;dbl&gt;</th><th scope=col>&lt;dbl&gt;</th><th scope=col>&lt;dbl&gt;</th><th scope=col>&lt;dbl&gt;</th><th scope=col>&lt;int&gt;</th><th scope=col>&lt;int&gt;</th><th scope=col>&lt;int&gt;</th><th scope=col>⋯</th><th scope=col>&lt;int&gt;</th><th scope=col>&lt;dbl&gt;</th><th scope=col>&lt;dbl&gt;</th><th scope=col>&lt;dbl&gt;</th><th scope=col>&lt;dbl&gt;</th><th scope=col>&lt;dbl&gt;</th><th scope=col>&lt;dbl&gt;</th><th scope=col>&lt;dbl&gt;</th><th scope=col>&lt;dbl&gt;</th><th scope=col>&lt;chr&gt;</th></tr>\n",
       "</thead>\n",
       "<tbody>\n",
       "\t<tr><th scope=row>8346</th><td>Plp1    </td><td>1884.9768</td><td>-3.936715</td><td>0.2460145</td><td>-16.001960</td><td>1.238158e-57</td><td>2.532033e-53</td><td>8325</td><td>3279</td><td>5729</td><td>⋯</td><td> 273</td><td>3709.6723</td><td>3993.5913</td><td>3421.3746</td><td>3031.5864</td><td> 217.60605</td><td>192.37982</td><td> 153.64933</td><td> 359.95428</td><td>ENSMUSG00000031425</td></tr>\n",
       "\t<tr><th scope=row>10784</th><td>Cldn11  </td><td> 191.1735</td><td>-3.677005</td><td>0.2900269</td><td>-12.678152</td><td>7.815309e-37</td><td>7.991153e-33</td><td> 891</td><td> 205</td><td> 537</td><td>⋯</td><td>  29</td><td> 397.0352</td><td> 249.6756</td><td> 320.6979</td><td> 450.8115</td><td>  23.52498</td><td> 22.55488</td><td>  26.85134</td><td>  38.23690</td><td>ENSMUSG00000037625</td></tr>\n",
       "\t<tr><th scope=row>5551</th><td>Nfasc   </td><td> 349.5555</td><td>-2.956616</td><td>0.2721640</td><td>-10.863364</td><td>1.722839e-27</td><td>1.174402e-23</td><td>2042</td><td> 498</td><td> 954</td><td>⋯</td><td>  70</td><td> 909.9280</td><td> 606.5290</td><td> 569.7314</td><td> 390.7033</td><td>  70.57493</td><td> 83.58571</td><td>  73.09531</td><td>  92.29597</td><td>ENSMUSG00000026442</td></tr>\n",
       "\t<tr><th scope=row>6077</th><td>Mal     </td><td> 244.3800</td><td>-2.576419</td><td>0.2641796</td><td> -9.752528</td><td>1.799300e-22</td><td>9.198922e-19</td><td> 965</td><td> 360</td><td> 634</td><td>⋯</td><td>  76</td><td> 430.0101</td><td> 438.4547</td><td> 378.6265</td><td> 428.5133</td><td>  87.04242</td><td> 50.41678</td><td>  41.76875</td><td> 100.20705</td><td>ENSMUSG00000027375</td></tr>\n",
       "\t<tr><th scope=row>1883</th><td>Baiap2l2</td><td> 690.0241</td><td> 2.810098</td><td>0.2944714</td><td>  9.542854</td><td>1.389540e-21</td><td>5.668449e-18</td><td> 387</td><td> 168</td><td> 219</td><td>⋯</td><td>1065</td><td> 172.4496</td><td> 204.6122</td><td> 130.7874</td><td> 182.2636</td><td>1008.04531</td><td>638.17029</td><td>1779.64706</td><td>1404.21725</td><td>ENSMUSG00000018126</td></tr>\n",
       "\t<tr><th scope=row>6343</th><td>Tspan2  </td><td> 159.7806</td><td>-3.162569</td><td>0.3320560</td><td> -9.524204</td><td>1.663115e-21</td><td>5.668449e-18</td><td> 677</td><td> 290</td><td> 423</td><td>⋯</td><td>  31</td><td> 301.6755</td><td> 353.1996</td><td> 252.6168</td><td> 243.3413</td><td>  49.40245</td><td> 13.26757</td><td>  23.86786</td><td>  40.87393</td><td>ENSMUSG00000027858</td></tr>\n",
       "</tbody>\n",
       "</table>\n"
      ],
      "text/latex": [
       "A data.frame: 6 × 24\n",
       "\\begin{tabular}{r|llllllllllllllllllllllll}\n",
       "  & gene\\_name & Cnp5xFAD\\_vs\\_Cnpko\\_baseMean & Cnp5xFAD\\_vs\\_Cnpko\\_log2FoldChange & Cnp5xFAD\\_vs\\_Cnpko\\_lfcSE & Cnp5xFAD\\_vs\\_Cnpko\\_stat & Cnp5xFAD\\_vs\\_Cnpko\\_pvalue & Cnp5xFAD\\_vs\\_Cnpko\\_padj & Cnp\\_ko\\_5.raw\\_counts & Cnp\\_ko\\_6.raw\\_counts & Cnp\\_ko\\_7.raw\\_counts & Cnp\\_ko\\_8.raw\\_counts & Cnp\\_5xFAD\\_13.raw\\_counts & Cnp\\_5xFAD\\_14.raw\\_counts & Cnp\\_5xFAD\\_15.raw\\_counts & Cnp\\_5xFAD\\_16.raw\\_counts & Cnp\\_ko\\_5.\\_normalised\\_value & Cnp\\_ko\\_6.\\_normalised\\_value & Cnp\\_ko\\_7.\\_normalised\\_value & Cnp\\_ko\\_8.\\_normalised\\_value & Cnp\\_5xFAD\\_13.\\_normalised\\_value & Cnp\\_5xFAD\\_14.\\_normalised\\_value & Cnp\\_5xFAD\\_15.\\_normalised\\_value & Cnp\\_5xFAD\\_16.\\_normalised\\_value & ensembl\\_ID\\\\\n",
       "  & <chr> & <dbl> & <dbl> & <dbl> & <dbl> & <dbl> & <dbl> & <int> & <int> & <int> & <int> & <int> & <int> & <int> & <int> & <dbl> & <dbl> & <dbl> & <dbl> & <dbl> & <dbl> & <dbl> & <dbl> & <chr>\\\\\n",
       "\\hline\n",
       "\t8346 & Plp1     & 1884.9768 & -3.936715 & 0.2460145 & -16.001960 & 1.238158e-57 & 2.532033e-53 & 8325 & 3279 & 5729 & 3127 & 185 & 145 &  103 &  273 & 3709.6723 & 3993.5913 & 3421.3746 & 3031.5864 &  217.60605 & 192.37982 &  153.64933 &  359.95428 & ENSMUSG00000031425\\\\\n",
       "\t10784 & Cldn11   &  191.1735 & -3.677005 & 0.2900269 & -12.678152 & 7.815309e-37 & 7.991153e-33 &  891 &  205 &  537 &  465 &  20 &  17 &   18 &   29 &  397.0352 &  249.6756 &  320.6979 &  450.8115 &   23.52498 &  22.55488 &   26.85134 &   38.23690 & ENSMUSG00000037625\\\\\n",
       "\t5551 & Nfasc    &  349.5555 & -2.956616 & 0.2721640 & -10.863364 & 1.722839e-27 & 1.174402e-23 & 2042 &  498 &  954 &  403 &  60 &  63 &   49 &   70 &  909.9280 &  606.5290 &  569.7314 &  390.7033 &   70.57493 &  83.58571 &   73.09531 &   92.29597 & ENSMUSG00000026442\\\\\n",
       "\t6077 & Mal      &  244.3800 & -2.576419 & 0.2641796 &  -9.752528 & 1.799300e-22 & 9.198922e-19 &  965 &  360 &  634 &  442 &  74 &  38 &   28 &   76 &  430.0101 &  438.4547 &  378.6265 &  428.5133 &   87.04242 &  50.41678 &   41.76875 &  100.20705 & ENSMUSG00000027375\\\\\n",
       "\t1883 & Baiap2l2 &  690.0241 &  2.810098 & 0.2944714 &   9.542854 & 1.389540e-21 & 5.668449e-18 &  387 &  168 &  219 &  188 & 857 & 481 & 1193 & 1065 &  172.4496 &  204.6122 &  130.7874 &  182.2636 & 1008.04531 & 638.17029 & 1779.64706 & 1404.21725 & ENSMUSG00000018126\\\\\n",
       "\t6343 & Tspan2   &  159.7806 & -3.162569 & 0.3320560 &  -9.524204 & 1.663115e-21 & 5.668449e-18 &  677 &  290 &  423 &  251 &  42 &  10 &   16 &   31 &  301.6755 &  353.1996 &  252.6168 &  243.3413 &   49.40245 &  13.26757 &   23.86786 &   40.87393 & ENSMUSG00000027858\\\\\n",
       "\\end{tabular}\n"
      ],
      "text/markdown": [
       "\n",
       "A data.frame: 6 × 24\n",
       "\n",
       "| <!--/--> | gene_name &lt;chr&gt; | Cnp5xFAD_vs_Cnpko_baseMean &lt;dbl&gt; | Cnp5xFAD_vs_Cnpko_log2FoldChange &lt;dbl&gt; | Cnp5xFAD_vs_Cnpko_lfcSE &lt;dbl&gt; | Cnp5xFAD_vs_Cnpko_stat &lt;dbl&gt; | Cnp5xFAD_vs_Cnpko_pvalue &lt;dbl&gt; | Cnp5xFAD_vs_Cnpko_padj &lt;dbl&gt; | Cnp_ko_5.raw_counts &lt;int&gt; | Cnp_ko_6.raw_counts &lt;int&gt; | Cnp_ko_7.raw_counts &lt;int&gt; | ⋯ ⋯ | Cnp_5xFAD_16.raw_counts &lt;int&gt; | Cnp_ko_5._normalised_value &lt;dbl&gt; | Cnp_ko_6._normalised_value &lt;dbl&gt; | Cnp_ko_7._normalised_value &lt;dbl&gt; | Cnp_ko_8._normalised_value &lt;dbl&gt; | Cnp_5xFAD_13._normalised_value &lt;dbl&gt; | Cnp_5xFAD_14._normalised_value &lt;dbl&gt; | Cnp_5xFAD_15._normalised_value &lt;dbl&gt; | Cnp_5xFAD_16._normalised_value &lt;dbl&gt; | ensembl_ID &lt;chr&gt; |\n",
       "|---|---|---|---|---|---|---|---|---|---|---|---|---|---|---|---|---|---|---|---|---|---|\n",
       "| 8346 | Plp1     | 1884.9768 | -3.936715 | 0.2460145 | -16.001960 | 1.238158e-57 | 2.532033e-53 | 8325 | 3279 | 5729 | ⋯ |  273 | 3709.6723 | 3993.5913 | 3421.3746 | 3031.5864 |  217.60605 | 192.37982 |  153.64933 |  359.95428 | ENSMUSG00000031425 |\n",
       "| 10784 | Cldn11   |  191.1735 | -3.677005 | 0.2900269 | -12.678152 | 7.815309e-37 | 7.991153e-33 |  891 |  205 |  537 | ⋯ |   29 |  397.0352 |  249.6756 |  320.6979 |  450.8115 |   23.52498 |  22.55488 |   26.85134 |   38.23690 | ENSMUSG00000037625 |\n",
       "| 5551 | Nfasc    |  349.5555 | -2.956616 | 0.2721640 | -10.863364 | 1.722839e-27 | 1.174402e-23 | 2042 |  498 |  954 | ⋯ |   70 |  909.9280 |  606.5290 |  569.7314 |  390.7033 |   70.57493 |  83.58571 |   73.09531 |   92.29597 | ENSMUSG00000026442 |\n",
       "| 6077 | Mal      |  244.3800 | -2.576419 | 0.2641796 |  -9.752528 | 1.799300e-22 | 9.198922e-19 |  965 |  360 |  634 | ⋯ |   76 |  430.0101 |  438.4547 |  378.6265 |  428.5133 |   87.04242 |  50.41678 |   41.76875 |  100.20705 | ENSMUSG00000027375 |\n",
       "| 1883 | Baiap2l2 |  690.0241 |  2.810098 | 0.2944714 |   9.542854 | 1.389540e-21 | 5.668449e-18 |  387 |  168 |  219 | ⋯ | 1065 |  172.4496 |  204.6122 |  130.7874 |  182.2636 | 1008.04531 | 638.17029 | 1779.64706 | 1404.21725 | ENSMUSG00000018126 |\n",
       "| 6343 | Tspan2   |  159.7806 | -3.162569 | 0.3320560 |  -9.524204 | 1.663115e-21 | 5.668449e-18 |  677 |  290 |  423 | ⋯ |   31 |  301.6755 |  353.1996 |  252.6168 |  243.3413 |   49.40245 |  13.26757 |   23.86786 |   40.87393 | ENSMUSG00000027858 |\n",
       "\n"
      ],
      "text/plain": [
       "      gene_name Cnp5xFAD_vs_Cnpko_baseMean Cnp5xFAD_vs_Cnpko_log2FoldChange\n",
       "8346  Plp1      1884.9768                  -3.936715                       \n",
       "10784 Cldn11     191.1735                  -3.677005                       \n",
       "5551  Nfasc      349.5555                  -2.956616                       \n",
       "6077  Mal        244.3800                  -2.576419                       \n",
       "1883  Baiap2l2   690.0241                   2.810098                       \n",
       "6343  Tspan2     159.7806                  -3.162569                       \n",
       "      Cnp5xFAD_vs_Cnpko_lfcSE Cnp5xFAD_vs_Cnpko_stat Cnp5xFAD_vs_Cnpko_pvalue\n",
       "8346  0.2460145               -16.001960             1.238158e-57            \n",
       "10784 0.2900269               -12.678152             7.815309e-37            \n",
       "5551  0.2721640               -10.863364             1.722839e-27            \n",
       "6077  0.2641796                -9.752528             1.799300e-22            \n",
       "1883  0.2944714                 9.542854             1.389540e-21            \n",
       "6343  0.3320560                -9.524204             1.663115e-21            \n",
       "      Cnp5xFAD_vs_Cnpko_padj Cnp_ko_5.raw_counts Cnp_ko_6.raw_counts\n",
       "8346  2.532033e-53           8325                3279               \n",
       "10784 7.991153e-33            891                 205               \n",
       "5551  1.174402e-23           2042                 498               \n",
       "6077  9.198922e-19            965                 360               \n",
       "1883  5.668449e-18            387                 168               \n",
       "6343  5.668449e-18            677                 290               \n",
       "      Cnp_ko_7.raw_counts ⋯ Cnp_5xFAD_16.raw_counts Cnp_ko_5._normalised_value\n",
       "8346  5729                ⋯  273                    3709.6723                 \n",
       "10784  537                ⋯   29                     397.0352                 \n",
       "5551   954                ⋯   70                     909.9280                 \n",
       "6077   634                ⋯   76                     430.0101                 \n",
       "1883   219                ⋯ 1065                     172.4496                 \n",
       "6343   423                ⋯   31                     301.6755                 \n",
       "      Cnp_ko_6._normalised_value Cnp_ko_7._normalised_value\n",
       "8346  3993.5913                  3421.3746                 \n",
       "10784  249.6756                   320.6979                 \n",
       "5551   606.5290                   569.7314                 \n",
       "6077   438.4547                   378.6265                 \n",
       "1883   204.6122                   130.7874                 \n",
       "6343   353.1996                   252.6168                 \n",
       "      Cnp_ko_8._normalised_value Cnp_5xFAD_13._normalised_value\n",
       "8346  3031.5864                   217.60605                    \n",
       "10784  450.8115                    23.52498                    \n",
       "5551   390.7033                    70.57493                    \n",
       "6077   428.5133                    87.04242                    \n",
       "1883   182.2636                  1008.04531                    \n",
       "6343   243.3413                    49.40245                    \n",
       "      Cnp_5xFAD_14._normalised_value Cnp_5xFAD_15._normalised_value\n",
       "8346  192.37982                       153.64933                    \n",
       "10784  22.55488                        26.85134                    \n",
       "5551   83.58571                        73.09531                    \n",
       "6077   50.41678                        41.76875                    \n",
       "1883  638.17029                      1779.64706                    \n",
       "6343   13.26757                        23.86786                    \n",
       "      Cnp_5xFAD_16._normalised_value ensembl_ID        \n",
       "8346   359.95428                     ENSMUSG00000031425\n",
       "10784   38.23690                     ENSMUSG00000037625\n",
       "5551    92.29597                     ENSMUSG00000026442\n",
       "6077   100.20705                     ENSMUSG00000027375\n",
       "1883  1404.21725                     ENSMUSG00000018126\n",
       "6343    40.87393                     ENSMUSG00000027858"
      ]
     },
     "metadata": {},
     "output_type": "display_data"
    }
   ],
   "source": [
    "head(all)"
   ]
  },
  {
   "cell_type": "code",
   "execution_count": 40,
   "metadata": {},
   "outputs": [],
   "source": [
    "#just for OCD\n",
    "all<-all[,c(24,1:23)]"
   ]
  },
  {
   "cell_type": "code",
   "execution_count": 41,
   "metadata": {},
   "outputs": [
    {
     "data": {
      "text/html": [
       "<table>\n",
       "<caption>A data.frame: 6 × 24</caption>\n",
       "<thead>\n",
       "\t<tr><th></th><th scope=col>ensembl_ID</th><th scope=col>gene_name</th><th scope=col>Cnp5xFAD_vs_Cnpko_baseMean</th><th scope=col>Cnp5xFAD_vs_Cnpko_log2FoldChange</th><th scope=col>Cnp5xFAD_vs_Cnpko_lfcSE</th><th scope=col>Cnp5xFAD_vs_Cnpko_stat</th><th scope=col>Cnp5xFAD_vs_Cnpko_pvalue</th><th scope=col>Cnp5xFAD_vs_Cnpko_padj</th><th scope=col>Cnp_ko_5.raw_counts</th><th scope=col>Cnp_ko_6.raw_counts</th><th scope=col>⋯</th><th scope=col>Cnp_5xFAD_15.raw_counts</th><th scope=col>Cnp_5xFAD_16.raw_counts</th><th scope=col>Cnp_ko_5._normalised_value</th><th scope=col>Cnp_ko_6._normalised_value</th><th scope=col>Cnp_ko_7._normalised_value</th><th scope=col>Cnp_ko_8._normalised_value</th><th scope=col>Cnp_5xFAD_13._normalised_value</th><th scope=col>Cnp_5xFAD_14._normalised_value</th><th scope=col>Cnp_5xFAD_15._normalised_value</th><th scope=col>Cnp_5xFAD_16._normalised_value</th></tr>\n",
       "\t<tr><th></th><th scope=col>&lt;chr&gt;</th><th scope=col>&lt;chr&gt;</th><th scope=col>&lt;dbl&gt;</th><th scope=col>&lt;dbl&gt;</th><th scope=col>&lt;dbl&gt;</th><th scope=col>&lt;dbl&gt;</th><th scope=col>&lt;dbl&gt;</th><th scope=col>&lt;dbl&gt;</th><th scope=col>&lt;int&gt;</th><th scope=col>&lt;int&gt;</th><th scope=col>⋯</th><th scope=col>&lt;int&gt;</th><th scope=col>&lt;int&gt;</th><th scope=col>&lt;dbl&gt;</th><th scope=col>&lt;dbl&gt;</th><th scope=col>&lt;dbl&gt;</th><th scope=col>&lt;dbl&gt;</th><th scope=col>&lt;dbl&gt;</th><th scope=col>&lt;dbl&gt;</th><th scope=col>&lt;dbl&gt;</th><th scope=col>&lt;dbl&gt;</th></tr>\n",
       "</thead>\n",
       "<tbody>\n",
       "\t<tr><th scope=row>8346</th><td>ENSMUSG00000031425</td><td>Plp1    </td><td>1884.9768</td><td>-3.936715</td><td>0.2460145</td><td>-16.001960</td><td>1.238158e-57</td><td>2.532033e-53</td><td>8325</td><td>3279</td><td>⋯</td><td> 103</td><td> 273</td><td>3709.6723</td><td>3993.5913</td><td>3421.3746</td><td>3031.5864</td><td> 217.60605</td><td>192.37982</td><td> 153.64933</td><td> 359.95428</td></tr>\n",
       "\t<tr><th scope=row>10784</th><td>ENSMUSG00000037625</td><td>Cldn11  </td><td> 191.1735</td><td>-3.677005</td><td>0.2900269</td><td>-12.678152</td><td>7.815309e-37</td><td>7.991153e-33</td><td> 891</td><td> 205</td><td>⋯</td><td>  18</td><td>  29</td><td> 397.0352</td><td> 249.6756</td><td> 320.6979</td><td> 450.8115</td><td>  23.52498</td><td> 22.55488</td><td>  26.85134</td><td>  38.23690</td></tr>\n",
       "\t<tr><th scope=row>5551</th><td>ENSMUSG00000026442</td><td>Nfasc   </td><td> 349.5555</td><td>-2.956616</td><td>0.2721640</td><td>-10.863364</td><td>1.722839e-27</td><td>1.174402e-23</td><td>2042</td><td> 498</td><td>⋯</td><td>  49</td><td>  70</td><td> 909.9280</td><td> 606.5290</td><td> 569.7314</td><td> 390.7033</td><td>  70.57493</td><td> 83.58571</td><td>  73.09531</td><td>  92.29597</td></tr>\n",
       "\t<tr><th scope=row>6077</th><td>ENSMUSG00000027375</td><td>Mal     </td><td> 244.3800</td><td>-2.576419</td><td>0.2641796</td><td> -9.752528</td><td>1.799300e-22</td><td>9.198922e-19</td><td> 965</td><td> 360</td><td>⋯</td><td>  28</td><td>  76</td><td> 430.0101</td><td> 438.4547</td><td> 378.6265</td><td> 428.5133</td><td>  87.04242</td><td> 50.41678</td><td>  41.76875</td><td> 100.20705</td></tr>\n",
       "\t<tr><th scope=row>1883</th><td>ENSMUSG00000018126</td><td>Baiap2l2</td><td> 690.0241</td><td> 2.810098</td><td>0.2944714</td><td>  9.542854</td><td>1.389540e-21</td><td>5.668449e-18</td><td> 387</td><td> 168</td><td>⋯</td><td>1193</td><td>1065</td><td> 172.4496</td><td> 204.6122</td><td> 130.7874</td><td> 182.2636</td><td>1008.04531</td><td>638.17029</td><td>1779.64706</td><td>1404.21725</td></tr>\n",
       "\t<tr><th scope=row>6343</th><td>ENSMUSG00000027858</td><td>Tspan2  </td><td> 159.7806</td><td>-3.162569</td><td>0.3320560</td><td> -9.524204</td><td>1.663115e-21</td><td>5.668449e-18</td><td> 677</td><td> 290</td><td>⋯</td><td>  16</td><td>  31</td><td> 301.6755</td><td> 353.1996</td><td> 252.6168</td><td> 243.3413</td><td>  49.40245</td><td> 13.26757</td><td>  23.86786</td><td>  40.87393</td></tr>\n",
       "</tbody>\n",
       "</table>\n"
      ],
      "text/latex": [
       "A data.frame: 6 × 24\n",
       "\\begin{tabular}{r|llllllllllllllllllllllll}\n",
       "  & ensembl\\_ID & gene\\_name & Cnp5xFAD\\_vs\\_Cnpko\\_baseMean & Cnp5xFAD\\_vs\\_Cnpko\\_log2FoldChange & Cnp5xFAD\\_vs\\_Cnpko\\_lfcSE & Cnp5xFAD\\_vs\\_Cnpko\\_stat & Cnp5xFAD\\_vs\\_Cnpko\\_pvalue & Cnp5xFAD\\_vs\\_Cnpko\\_padj & Cnp\\_ko\\_5.raw\\_counts & Cnp\\_ko\\_6.raw\\_counts & Cnp\\_ko\\_7.raw\\_counts & Cnp\\_ko\\_8.raw\\_counts & Cnp\\_5xFAD\\_13.raw\\_counts & Cnp\\_5xFAD\\_14.raw\\_counts & Cnp\\_5xFAD\\_15.raw\\_counts & Cnp\\_5xFAD\\_16.raw\\_counts & Cnp\\_ko\\_5.\\_normalised\\_value & Cnp\\_ko\\_6.\\_normalised\\_value & Cnp\\_ko\\_7.\\_normalised\\_value & Cnp\\_ko\\_8.\\_normalised\\_value & Cnp\\_5xFAD\\_13.\\_normalised\\_value & Cnp\\_5xFAD\\_14.\\_normalised\\_value & Cnp\\_5xFAD\\_15.\\_normalised\\_value & Cnp\\_5xFAD\\_16.\\_normalised\\_value\\\\\n",
       "  & <chr> & <chr> & <dbl> & <dbl> & <dbl> & <dbl> & <dbl> & <dbl> & <int> & <int> & <int> & <int> & <int> & <int> & <int> & <int> & <dbl> & <dbl> & <dbl> & <dbl> & <dbl> & <dbl> & <dbl> & <dbl>\\\\\n",
       "\\hline\n",
       "\t8346 & ENSMUSG00000031425 & Plp1     & 1884.9768 & -3.936715 & 0.2460145 & -16.001960 & 1.238158e-57 & 2.532033e-53 & 8325 & 3279 & 5729 & 3127 & 185 & 145 &  103 &  273 & 3709.6723 & 3993.5913 & 3421.3746 & 3031.5864 &  217.60605 & 192.37982 &  153.64933 &  359.95428\\\\\n",
       "\t10784 & ENSMUSG00000037625 & Cldn11   &  191.1735 & -3.677005 & 0.2900269 & -12.678152 & 7.815309e-37 & 7.991153e-33 &  891 &  205 &  537 &  465 &  20 &  17 &   18 &   29 &  397.0352 &  249.6756 &  320.6979 &  450.8115 &   23.52498 &  22.55488 &   26.85134 &   38.23690\\\\\n",
       "\t5551 & ENSMUSG00000026442 & Nfasc    &  349.5555 & -2.956616 & 0.2721640 & -10.863364 & 1.722839e-27 & 1.174402e-23 & 2042 &  498 &  954 &  403 &  60 &  63 &   49 &   70 &  909.9280 &  606.5290 &  569.7314 &  390.7033 &   70.57493 &  83.58571 &   73.09531 &   92.29597\\\\\n",
       "\t6077 & ENSMUSG00000027375 & Mal      &  244.3800 & -2.576419 & 0.2641796 &  -9.752528 & 1.799300e-22 & 9.198922e-19 &  965 &  360 &  634 &  442 &  74 &  38 &   28 &   76 &  430.0101 &  438.4547 &  378.6265 &  428.5133 &   87.04242 &  50.41678 &   41.76875 &  100.20705\\\\\n",
       "\t1883 & ENSMUSG00000018126 & Baiap2l2 &  690.0241 &  2.810098 & 0.2944714 &   9.542854 & 1.389540e-21 & 5.668449e-18 &  387 &  168 &  219 &  188 & 857 & 481 & 1193 & 1065 &  172.4496 &  204.6122 &  130.7874 &  182.2636 & 1008.04531 & 638.17029 & 1779.64706 & 1404.21725\\\\\n",
       "\t6343 & ENSMUSG00000027858 & Tspan2   &  159.7806 & -3.162569 & 0.3320560 &  -9.524204 & 1.663115e-21 & 5.668449e-18 &  677 &  290 &  423 &  251 &  42 &  10 &   16 &   31 &  301.6755 &  353.1996 &  252.6168 &  243.3413 &   49.40245 &  13.26757 &   23.86786 &   40.87393\\\\\n",
       "\\end{tabular}\n"
      ],
      "text/markdown": [
       "\n",
       "A data.frame: 6 × 24\n",
       "\n",
       "| <!--/--> | ensembl_ID &lt;chr&gt; | gene_name &lt;chr&gt; | Cnp5xFAD_vs_Cnpko_baseMean &lt;dbl&gt; | Cnp5xFAD_vs_Cnpko_log2FoldChange &lt;dbl&gt; | Cnp5xFAD_vs_Cnpko_lfcSE &lt;dbl&gt; | Cnp5xFAD_vs_Cnpko_stat &lt;dbl&gt; | Cnp5xFAD_vs_Cnpko_pvalue &lt;dbl&gt; | Cnp5xFAD_vs_Cnpko_padj &lt;dbl&gt; | Cnp_ko_5.raw_counts &lt;int&gt; | Cnp_ko_6.raw_counts &lt;int&gt; | ⋯ ⋯ | Cnp_5xFAD_15.raw_counts &lt;int&gt; | Cnp_5xFAD_16.raw_counts &lt;int&gt; | Cnp_ko_5._normalised_value &lt;dbl&gt; | Cnp_ko_6._normalised_value &lt;dbl&gt; | Cnp_ko_7._normalised_value &lt;dbl&gt; | Cnp_ko_8._normalised_value &lt;dbl&gt; | Cnp_5xFAD_13._normalised_value &lt;dbl&gt; | Cnp_5xFAD_14._normalised_value &lt;dbl&gt; | Cnp_5xFAD_15._normalised_value &lt;dbl&gt; | Cnp_5xFAD_16._normalised_value &lt;dbl&gt; |\n",
       "|---|---|---|---|---|---|---|---|---|---|---|---|---|---|---|---|---|---|---|---|---|---|\n",
       "| 8346 | ENSMUSG00000031425 | Plp1     | 1884.9768 | -3.936715 | 0.2460145 | -16.001960 | 1.238158e-57 | 2.532033e-53 | 8325 | 3279 | ⋯ |  103 |  273 | 3709.6723 | 3993.5913 | 3421.3746 | 3031.5864 |  217.60605 | 192.37982 |  153.64933 |  359.95428 |\n",
       "| 10784 | ENSMUSG00000037625 | Cldn11   |  191.1735 | -3.677005 | 0.2900269 | -12.678152 | 7.815309e-37 | 7.991153e-33 |  891 |  205 | ⋯ |   18 |   29 |  397.0352 |  249.6756 |  320.6979 |  450.8115 |   23.52498 |  22.55488 |   26.85134 |   38.23690 |\n",
       "| 5551 | ENSMUSG00000026442 | Nfasc    |  349.5555 | -2.956616 | 0.2721640 | -10.863364 | 1.722839e-27 | 1.174402e-23 | 2042 |  498 | ⋯ |   49 |   70 |  909.9280 |  606.5290 |  569.7314 |  390.7033 |   70.57493 |  83.58571 |   73.09531 |   92.29597 |\n",
       "| 6077 | ENSMUSG00000027375 | Mal      |  244.3800 | -2.576419 | 0.2641796 |  -9.752528 | 1.799300e-22 | 9.198922e-19 |  965 |  360 | ⋯ |   28 |   76 |  430.0101 |  438.4547 |  378.6265 |  428.5133 |   87.04242 |  50.41678 |   41.76875 |  100.20705 |\n",
       "| 1883 | ENSMUSG00000018126 | Baiap2l2 |  690.0241 |  2.810098 | 0.2944714 |   9.542854 | 1.389540e-21 | 5.668449e-18 |  387 |  168 | ⋯ | 1193 | 1065 |  172.4496 |  204.6122 |  130.7874 |  182.2636 | 1008.04531 | 638.17029 | 1779.64706 | 1404.21725 |\n",
       "| 6343 | ENSMUSG00000027858 | Tspan2   |  159.7806 | -3.162569 | 0.3320560 |  -9.524204 | 1.663115e-21 | 5.668449e-18 |  677 |  290 | ⋯ |   16 |   31 |  301.6755 |  353.1996 |  252.6168 |  243.3413 |   49.40245 |  13.26757 |   23.86786 |   40.87393 |\n",
       "\n"
      ],
      "text/plain": [
       "      ensembl_ID         gene_name Cnp5xFAD_vs_Cnpko_baseMean\n",
       "8346  ENSMUSG00000031425 Plp1      1884.9768                 \n",
       "10784 ENSMUSG00000037625 Cldn11     191.1735                 \n",
       "5551  ENSMUSG00000026442 Nfasc      349.5555                 \n",
       "6077  ENSMUSG00000027375 Mal        244.3800                 \n",
       "1883  ENSMUSG00000018126 Baiap2l2   690.0241                 \n",
       "6343  ENSMUSG00000027858 Tspan2     159.7806                 \n",
       "      Cnp5xFAD_vs_Cnpko_log2FoldChange Cnp5xFAD_vs_Cnpko_lfcSE\n",
       "8346  -3.936715                        0.2460145              \n",
       "10784 -3.677005                        0.2900269              \n",
       "5551  -2.956616                        0.2721640              \n",
       "6077  -2.576419                        0.2641796              \n",
       "1883   2.810098                        0.2944714              \n",
       "6343  -3.162569                        0.3320560              \n",
       "      Cnp5xFAD_vs_Cnpko_stat Cnp5xFAD_vs_Cnpko_pvalue Cnp5xFAD_vs_Cnpko_padj\n",
       "8346  -16.001960             1.238158e-57             2.532033e-53          \n",
       "10784 -12.678152             7.815309e-37             7.991153e-33          \n",
       "5551  -10.863364             1.722839e-27             1.174402e-23          \n",
       "6077   -9.752528             1.799300e-22             9.198922e-19          \n",
       "1883    9.542854             1.389540e-21             5.668449e-18          \n",
       "6343   -9.524204             1.663115e-21             5.668449e-18          \n",
       "      Cnp_ko_5.raw_counts Cnp_ko_6.raw_counts ⋯ Cnp_5xFAD_15.raw_counts\n",
       "8346  8325                3279                ⋯  103                   \n",
       "10784  891                 205                ⋯   18                   \n",
       "5551  2042                 498                ⋯   49                   \n",
       "6077   965                 360                ⋯   28                   \n",
       "1883   387                 168                ⋯ 1193                   \n",
       "6343   677                 290                ⋯   16                   \n",
       "      Cnp_5xFAD_16.raw_counts Cnp_ko_5._normalised_value\n",
       "8346   273                    3709.6723                 \n",
       "10784   29                     397.0352                 \n",
       "5551    70                     909.9280                 \n",
       "6077    76                     430.0101                 \n",
       "1883  1065                     172.4496                 \n",
       "6343    31                     301.6755                 \n",
       "      Cnp_ko_6._normalised_value Cnp_ko_7._normalised_value\n",
       "8346  3993.5913                  3421.3746                 \n",
       "10784  249.6756                   320.6979                 \n",
       "5551   606.5290                   569.7314                 \n",
       "6077   438.4547                   378.6265                 \n",
       "1883   204.6122                   130.7874                 \n",
       "6343   353.1996                   252.6168                 \n",
       "      Cnp_ko_8._normalised_value Cnp_5xFAD_13._normalised_value\n",
       "8346  3031.5864                   217.60605                    \n",
       "10784  450.8115                    23.52498                    \n",
       "5551   390.7033                    70.57493                    \n",
       "6077   428.5133                    87.04242                    \n",
       "1883   182.2636                  1008.04531                    \n",
       "6343   243.3413                    49.40245                    \n",
       "      Cnp_5xFAD_14._normalised_value Cnp_5xFAD_15._normalised_value\n",
       "8346  192.37982                       153.64933                    \n",
       "10784  22.55488                        26.85134                    \n",
       "5551   83.58571                        73.09531                    \n",
       "6077   50.41678                        41.76875                    \n",
       "1883  638.17029                      1779.64706                    \n",
       "6343   13.26757                        23.86786                    \n",
       "      Cnp_5xFAD_16._normalised_value\n",
       "8346   359.95428                    \n",
       "10784   38.23690                    \n",
       "5551    92.29597                    \n",
       "6077   100.20705                    \n",
       "1883  1404.21725                    \n",
       "6343    40.87393                    "
      ]
     },
     "metadata": {},
     "output_type": "display_data"
    }
   ],
   "source": [
    "head(all)"
   ]
  }
 ],
 "metadata": {
  "kernelspec": {
   "display_name": "R",
   "language": "R",
   "name": "ir"
  },
  "language_info": {
   "codemirror_mode": "r",
   "file_extension": ".r",
   "mimetype": "text/x-r-source",
   "name": "R",
   "pygments_lexer": "r",
   "version": "3.6.1"
  }
 },
 "nbformat": 4,
 "nbformat_minor": 2
}
